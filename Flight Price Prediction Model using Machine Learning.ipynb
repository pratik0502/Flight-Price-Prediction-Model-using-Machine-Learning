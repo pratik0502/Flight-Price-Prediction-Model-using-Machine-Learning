{
 "cells": [
  {
   "cell_type": "code",
   "execution_count": 4,
   "id": "94c73341-4d9c-4d88-970c-783a29051c6d",
   "metadata": {},
   "outputs": [],
   "source": [
    "import pandas as pd\n",
    "import numpy as np\n",
    "import seaborn as sns\n",
    "import matplotlib.pyplot as plt"
   ]
  },
  {
   "cell_type": "code",
   "execution_count": 5,
   "id": "d6d4d09b-db0f-4a33-851c-5ff6aa3ee841",
   "metadata": {},
   "outputs": [],
   "source": [
    "df1 = pd.read_csv('economy.csv')"
   ]
  },
  {
   "cell_type": "code",
   "execution_count": 3,
   "id": "de2c7ce1-d5bf-4aff-89dc-9a962ef15907",
   "metadata": {},
   "outputs": [],
   "source": [
    "df2 = pd.read_csv('business.csv')"
   ]
  },
  {
   "cell_type": "code",
   "execution_count": 4,
   "id": "8c63ad67-c298-4fb2-be38-a2ecbb138570",
   "metadata": {},
   "outputs": [],
   "source": [
    "df=pd.concat([df1,df2],axis=0)"
   ]
  },
  {
   "cell_type": "code",
   "execution_count": 5,
   "id": "82b33b1f-3dc5-4d93-a088-a3755185c5b0",
   "metadata": {},
   "outputs": [
    {
     "data": {
      "text/plain": [
       "(300261, 11)"
      ]
     },
     "execution_count": 5,
     "metadata": {},
     "output_type": "execute_result"
    }
   ],
   "source": [
    "df.shape"
   ]
  },
  {
   "cell_type": "code",
   "execution_count": 6,
   "id": "09328eda-b6b5-462d-bf74-a9a5e7cfb26d",
   "metadata": {},
   "outputs": [
    {
     "data": {
      "text/plain": [
       "(206774, 11)"
      ]
     },
     "execution_count": 6,
     "metadata": {},
     "output_type": "execute_result"
    }
   ],
   "source": [
    "df1.shape"
   ]
  },
  {
   "cell_type": "code",
   "execution_count": 7,
   "id": "5cc8a235-f928-4871-b5dd-967aec7e909a",
   "metadata": {},
   "outputs": [
    {
     "data": {
      "text/plain": [
       "(93487, 11)"
      ]
     },
     "execution_count": 7,
     "metadata": {},
     "output_type": "execute_result"
    }
   ],
   "source": [
    "df2.shape"
   ]
  },
  {
   "cell_type": "code",
   "execution_count": 8,
   "id": "8e75c2cf-40ed-44fa-9d15-b7defd8a6d9b",
   "metadata": {},
   "outputs": [
    {
     "data": {
      "text/plain": [
       "(206774, 11, 93487, 11)"
      ]
     },
     "execution_count": 8,
     "metadata": {},
     "output_type": "execute_result"
    }
   ],
   "source": [
    "df1.shape+df2.shape"
   ]
  },
  {
   "cell_type": "code",
   "execution_count": 9,
   "id": "2182c10b-107d-49d2-b880-33f02b63cd3c",
   "metadata": {},
   "outputs": [
    {
     "name": "stdout",
     "output_type": "stream",
     "text": [
      "<class 'pandas.core.frame.DataFrame'>\n",
      "Int64Index: 300261 entries, 0 to 93486\n",
      "Data columns (total 11 columns):\n",
      " #   Column      Non-Null Count   Dtype \n",
      "---  ------      --------------   ----- \n",
      " 0   date        300261 non-null  object\n",
      " 1   airline     300261 non-null  object\n",
      " 2   ch_code     300261 non-null  object\n",
      " 3   num_code    300261 non-null  int64 \n",
      " 4   dep_time    300261 non-null  object\n",
      " 5   from        300261 non-null  object\n",
      " 6   time_taken  300261 non-null  object\n",
      " 7   stop        300261 non-null  object\n",
      " 8   arr_time    300261 non-null  object\n",
      " 9   to          300261 non-null  object\n",
      " 10  price       300261 non-null  object\n",
      "dtypes: int64(1), object(10)\n",
      "memory usage: 27.5+ MB\n"
     ]
    }
   ],
   "source": [
    "df.info()"
   ]
  },
  {
   "cell_type": "code",
   "execution_count": 10,
   "id": "3cff02e1-8311-4acb-941e-c8d70d871ea5",
   "metadata": {},
   "outputs": [
    {
     "data": {
      "text/html": [
       "<div>\n",
       "<style scoped>\n",
       "    .dataframe tbody tr th:only-of-type {\n",
       "        vertical-align: middle;\n",
       "    }\n",
       "\n",
       "    .dataframe tbody tr th {\n",
       "        vertical-align: top;\n",
       "    }\n",
       "\n",
       "    .dataframe thead th {\n",
       "        text-align: right;\n",
       "    }\n",
       "</style>\n",
       "<table border=\"1\" class=\"dataframe\">\n",
       "  <thead>\n",
       "    <tr style=\"text-align: right;\">\n",
       "      <th></th>\n",
       "      <th>date</th>\n",
       "      <th>airline</th>\n",
       "      <th>ch_code</th>\n",
       "      <th>num_code</th>\n",
       "      <th>dep_time</th>\n",
       "      <th>from</th>\n",
       "      <th>time_taken</th>\n",
       "      <th>stop</th>\n",
       "      <th>arr_time</th>\n",
       "      <th>to</th>\n",
       "      <th>price</th>\n",
       "    </tr>\n",
       "  </thead>\n",
       "  <tbody>\n",
       "    <tr>\n",
       "      <th>179906</th>\n",
       "      <td>23-03-2022</td>\n",
       "      <td>Vistara</td>\n",
       "      <td>UK</td>\n",
       "      <td>874</td>\n",
       "      <td>08:30</td>\n",
       "      <td>Hyderabad</td>\n",
       "      <td>27h 20m</td>\n",
       "      <td>1-stop\\n\\t\\t\\t\\t\\t\\t\\t\\t\\t\\t\\t\\t\\n\\t\\t\\t\\t\\t\\t...</td>\n",
       "      <td>11:50</td>\n",
       "      <td>Chennai</td>\n",
       "      <td>6,287</td>\n",
       "    </tr>\n",
       "    <tr>\n",
       "      <th>78465</th>\n",
       "      <td>27-03-2022</td>\n",
       "      <td>Vistara</td>\n",
       "      <td>UK</td>\n",
       "      <td>876</td>\n",
       "      <td>21:35</td>\n",
       "      <td>Hyderabad</td>\n",
       "      <td>12h 05m</td>\n",
       "      <td>1-stop\\n\\t\\t\\t\\t\\t\\t\\t\\t\\t\\t\\t\\t\\n\\t\\t\\t\\t\\t\\t...</td>\n",
       "      <td>09:40</td>\n",
       "      <td>Kolkata</td>\n",
       "      <td>48,851</td>\n",
       "    </tr>\n",
       "    <tr>\n",
       "      <th>40907</th>\n",
       "      <td>19-03-2022</td>\n",
       "      <td>Indigo</td>\n",
       "      <td>6E</td>\n",
       "      <td>2478</td>\n",
       "      <td>23:25</td>\n",
       "      <td>Delhi</td>\n",
       "      <td>06h 30m</td>\n",
       "      <td>1-stop\\n\\t\\t\\t\\t\\t\\t\\t\\t\\t\\t\\t\\t\\n\\t\\t\\t\\t\\t\\t...</td>\n",
       "      <td>05:55</td>\n",
       "      <td>Chennai</td>\n",
       "      <td>2,931</td>\n",
       "    </tr>\n",
       "    <tr>\n",
       "      <th>189522</th>\n",
       "      <td>27-02-2022</td>\n",
       "      <td>Indigo</td>\n",
       "      <td>6E</td>\n",
       "      <td>6137</td>\n",
       "      <td>09:00</td>\n",
       "      <td>Chennai</td>\n",
       "      <td>09h 35m</td>\n",
       "      <td>1-stop\\n\\t\\t\\t\\t\\t\\t\\t\\t\\t\\t\\t\\t\\n\\t\\t\\t\\t\\t\\t...</td>\n",
       "      <td>18:35</td>\n",
       "      <td>Mumbai</td>\n",
       "      <td>3,720</td>\n",
       "    </tr>\n",
       "    <tr>\n",
       "      <th>19697</th>\n",
       "      <td>29-03-2022</td>\n",
       "      <td>Air India</td>\n",
       "      <td>AI</td>\n",
       "      <td>801</td>\n",
       "      <td>17:15</td>\n",
       "      <td>Delhi</td>\n",
       "      <td>17h 15m</td>\n",
       "      <td>1-stop\\n\\t\\t\\t\\t\\t\\t\\t\\t\\t\\t\\t\\t\\n\\t\\t\\t\\t\\t\\t...</td>\n",
       "      <td>10:30</td>\n",
       "      <td>Bangalore</td>\n",
       "      <td>7,046</td>\n",
       "    </tr>\n",
       "  </tbody>\n",
       "</table>\n",
       "</div>"
      ],
      "text/plain": [
       "              date    airline ch_code  num_code dep_time       from  \\\n",
       "179906  23-03-2022    Vistara      UK       874    08:30  Hyderabad   \n",
       "78465   27-03-2022    Vistara      UK       876    21:35  Hyderabad   \n",
       "40907   19-03-2022     Indigo      6E      2478    23:25      Delhi   \n",
       "189522  27-02-2022     Indigo      6E      6137    09:00    Chennai   \n",
       "19697   29-03-2022  Air India      AI       801    17:15      Delhi   \n",
       "\n",
       "       time_taken                                               stop arr_time  \\\n",
       "179906    27h 20m  1-stop\\n\\t\\t\\t\\t\\t\\t\\t\\t\\t\\t\\t\\t\\n\\t\\t\\t\\t\\t\\t...    11:50   \n",
       "78465     12h 05m  1-stop\\n\\t\\t\\t\\t\\t\\t\\t\\t\\t\\t\\t\\t\\n\\t\\t\\t\\t\\t\\t...    09:40   \n",
       "40907     06h 30m  1-stop\\n\\t\\t\\t\\t\\t\\t\\t\\t\\t\\t\\t\\t\\n\\t\\t\\t\\t\\t\\t...    05:55   \n",
       "189522    09h 35m  1-stop\\n\\t\\t\\t\\t\\t\\t\\t\\t\\t\\t\\t\\t\\n\\t\\t\\t\\t\\t\\t...    18:35   \n",
       "19697     17h 15m  1-stop\\n\\t\\t\\t\\t\\t\\t\\t\\t\\t\\t\\t\\t\\n\\t\\t\\t\\t\\t\\t...    10:30   \n",
       "\n",
       "               to   price  \n",
       "179906    Chennai   6,287  \n",
       "78465     Kolkata  48,851  \n",
       "40907     Chennai   2,931  \n",
       "189522     Mumbai   3,720  \n",
       "19697   Bangalore   7,046  "
      ]
     },
     "execution_count": 10,
     "metadata": {},
     "output_type": "execute_result"
    }
   ],
   "source": [
    "df.sample(5)"
   ]
  },
  {
   "cell_type": "code",
   "execution_count": 11,
   "id": "0bf7e925-e605-4712-82a9-94273d98301c",
   "metadata": {},
   "outputs": [
    {
     "data": {
      "text/plain": [
       "array(['non-stop ',\n",
       "       '1-stop\\n\\t\\t\\t\\t\\t\\t\\t\\t\\t\\t\\t\\t\\n\\t\\t\\t\\t\\t\\t\\t\\t\\t\\t\\t\\t',\n",
       "       '1-stop\\n\\t\\t\\t\\t\\t\\t\\t\\t\\t\\t\\t\\tVia IXU\\n\\t\\t\\t\\t\\t\\t\\t\\t\\t\\t\\t\\t',\n",
       "       '1-stop\\n\\t\\t\\t\\t\\t\\t\\t\\t\\t\\t\\t\\tVia Chennai\\n\\t\\t\\t\\t\\t\\t\\t\\t\\t\\t\\t\\t',\n",
       "       '1-stop\\n\\t\\t\\t\\t\\t\\t\\t\\t\\t\\t\\t\\tVia Indore\\n\\t\\t\\t\\t\\t\\t\\t\\t\\t\\t\\t\\t',\n",
       "       '1-stop\\n\\t\\t\\t\\t\\t\\t\\t\\t\\t\\t\\t\\tVia RPR\\n\\t\\t\\t\\t\\t\\t\\t\\t\\t\\t\\t\\t',\n",
       "       '2+-stop',\n",
       "       '1-stop\\n\\t\\t\\t\\t\\t\\t\\t\\t\\t\\t\\t\\tVia Lucknow\\n\\t\\t\\t\\t\\t\\t\\t\\t\\t\\t\\t\\t',\n",
       "       '1-stop\\n\\t\\t\\t\\t\\t\\t\\t\\t\\t\\t\\t\\tVia GOP\\n\\t\\t\\t\\t\\t\\t\\t\\t\\t\\t\\t\\t',\n",
       "       '1-stop\\n\\t\\t\\t\\t\\t\\t\\t\\t\\t\\t\\t\\tVia Raipur\\n\\t\\t\\t\\t\\t\\t\\t\\t\\t\\t\\t\\t',\n",
       "       '1-stop\\n\\t\\t\\t\\t\\t\\t\\t\\t\\t\\t\\t\\tVia Nagpur\\n\\t\\t\\t\\t\\t\\t\\t\\t\\t\\t\\t\\t',\n",
       "       '1-stop\\n\\t\\t\\t\\t\\t\\t\\t\\t\\t\\t\\t\\tVia Surat\\n\\t\\t\\t\\t\\t\\t\\t\\t\\t\\t\\t\\t',\n",
       "       '1-stop\\n\\t\\t\\t\\t\\t\\t\\t\\t\\t\\t\\t\\tVia Hyderabad\\n\\t\\t\\t\\t\\t\\t\\t\\t\\t\\t\\t\\t',\n",
       "       '1-stop\\n\\t\\t\\t\\t\\t\\t\\t\\t\\t\\t\\t\\tVia STV\\n\\t\\t\\t\\t\\t\\t\\t\\t\\t\\t\\t\\t',\n",
       "       '1-stop\\n\\t\\t\\t\\t\\t\\t\\t\\t\\t\\t\\t\\tVia IDR\\n\\t\\t\\t\\t\\t\\t\\t\\t\\t\\t\\t\\t',\n",
       "       '1-stop\\n\\t\\t\\t\\t\\t\\t\\t\\t\\t\\t\\t\\tVia VTZ\\n\\t\\t\\t\\t\\t\\t\\t\\t\\t\\t\\t\\t',\n",
       "       '1-stop\\n\\t\\t\\t\\t\\t\\t\\t\\t\\t\\t\\t\\tVia Guwahati\\n\\t\\t\\t\\t\\t\\t\\t\\t\\t\\t\\t\\t',\n",
       "       '1-stop\\n\\t\\t\\t\\t\\t\\t\\t\\t\\t\\t\\t\\tVia NAG\\n\\t\\t\\t\\t\\t\\t\\t\\t\\t\\t\\t\\t',\n",
       "       '1-stop\\n\\t\\t\\t\\t\\t\\t\\t\\t\\t\\t\\t\\tVia Vishakhapatnam\\n\\t\\t\\t\\t\\t\\t\\t\\t\\t\\t\\t\\t',\n",
       "       '1-stop\\n\\t\\t\\t\\t\\t\\t\\t\\t\\t\\t\\t\\tVia NDC\\n\\t\\t\\t\\t\\t\\t\\t\\t\\t\\t\\t\\t',\n",
       "       '1-stop\\n\\t\\t\\t\\t\\t\\t\\t\\t\\t\\t\\t\\tVia IXE\\n\\t\\t\\t\\t\\t\\t\\t\\t\\t\\t\\t\\t',\n",
       "       '1-stop\\n\\t\\t\\t\\t\\t\\t\\t\\t\\t\\t\\t\\tVia Patna\\n\\t\\t\\t\\t\\t\\t\\t\\t\\t\\t\\t\\t',\n",
       "       '1-stop\\n\\t\\t\\t\\t\\t\\t\\t\\t\\t\\t\\t\\tVia PAT\\n\\t\\t\\t\\t\\t\\t\\t\\t\\t\\t\\t\\t',\n",
       "       '1-stop\\n\\t\\t\\t\\t\\t\\t\\t\\t\\t\\t\\t\\tVia Mangalore\\n\\t\\t\\t\\t\\t\\t\\t\\t\\t\\t\\t\\t',\n",
       "       '1-stop\\n\\t\\t\\t\\t\\t\\t\\t\\t\\t\\t\\t\\tVia Mumbai\\n\\t\\t\\t\\t\\t\\t\\t\\t\\t\\t\\t\\t',\n",
       "       '1-stop\\n\\t\\t\\t\\t\\t\\t\\t\\t\\t\\t\\t\\tVia KLH\\n\\t\\t\\t\\t\\t\\t\\t\\t\\t\\t\\t\\t',\n",
       "       '1-stop\\n\\t\\t\\t\\t\\t\\t\\t\\t\\t\\t\\t\\tVia MYQ\\n\\t\\t\\t\\t\\t\\t\\t\\t\\t\\t\\t\\t',\n",
       "       '1-stop\\n\\t\\t\\t\\t\\t\\t\\t\\t\\t\\t\\t\\tVia Kolkata\\n\\t\\t\\t\\t\\t\\t\\t\\t\\t\\t\\t\\t',\n",
       "       '1-stop\\n\\t\\t\\t\\t\\t\\t\\t\\t\\t\\t\\t\\tVia Delhi\\n\\t\\t\\t\\t\\t\\t\\t\\t\\t\\t\\t\\t',\n",
       "       '1-stop\\n\\t\\t\\t\\t\\t\\t\\t\\t\\t\\t\\t\\tVia Kolhapur\\n\\t\\t\\t\\t\\t\\t\\t\\t\\t\\t\\t\\t',\n",
       "       '1-stop\\n\\t\\t\\t\\t\\t\\t\\t\\t\\t\\t\\t\\tVia JRG\\n\\t\\t\\t\\t\\t\\t\\t\\t\\t\\t\\t\\t',\n",
       "       '1-stop\\n\\t\\t\\t\\t\\t\\t\\t\\t\\t\\t\\t\\tVia Bhubaneswar\\n\\t\\t\\t\\t\\t\\t\\t\\t\\t\\t\\t\\t',\n",
       "       '1-stop\\n\\t\\t\\t\\t\\t\\t\\t\\t\\t\\t\\t\\tVia Ranchi\\n\\t\\t\\t\\t\\t\\t\\t\\t\\t\\t\\t\\t',\n",
       "       '1-stop\\n\\t\\t\\t\\t\\t\\t\\t\\t\\t\\t\\t\\tVia IXR\\n\\t\\t\\t\\t\\t\\t\\t\\t\\t\\t\\t\\t',\n",
       "       '1-stop\\n\\t\\t\\t\\t\\t\\t\\t\\t\\t\\t\\t\\tVia JGB\\n\\t\\t\\t\\t\\t\\t\\t\\t\\t\\t\\t\\t',\n",
       "       '1-stop\\n\\t\\t\\t\\t\\t\\t\\t\\t\\t\\t\\t\\tVia BBI\\n\\t\\t\\t\\t\\t\\t\\t\\t\\t\\t\\t\\t',\n",
       "       '1-stop\\n\\t\\t\\t\\t\\t\\t\\t\\t\\t\\t\\t\\tVia Mysore\\n\\t\\t\\t\\t\\t\\t\\t\\t\\t\\t\\t\\t',\n",
       "       '1-stop\\n\\t\\t\\t\\t\\t\\t\\t\\t\\t\\t\\t\\tVia GAY\\n\\t\\t\\t\\t\\t\\t\\t\\t\\t\\t\\t\\t',\n",
       "       '1-stop\\n\\t\\t\\t\\t\\t\\t\\t\\t\\t\\t\\t\\tVia GAU\\n\\t\\t\\t\\t\\t\\t\\t\\t\\t\\t\\t\\t',\n",
       "       '1-stop\\n\\t\\t\\t\\t\\t\\t\\t\\t\\t\\t\\t\\tVia HYD\\n\\t\\t\\t\\t\\t\\t\\t\\t\\t\\t\\t\\t'],\n",
       "      dtype=object)"
      ]
     },
     "execution_count": 11,
     "metadata": {},
     "output_type": "execute_result"
    }
   ],
   "source": [
    "df['stop'].unique()"
   ]
  },
  {
   "cell_type": "code",
   "execution_count": 12,
   "id": "6f237f05-4354-488d-b076-95315dce395c",
   "metadata": {},
   "outputs": [],
   "source": [
    "df['no_stops'] = df['stop'].str.extract('(\\d+)')"
   ]
  },
  {
   "cell_type": "code",
   "execution_count": 13,
   "id": "4f9e5da3-096f-43f4-84a0-5f09ef83fb91",
   "metadata": {},
   "outputs": [
    {
     "data": {
      "text/plain": [
       "197086      2\n",
       "67765       1\n",
       "67402       1\n",
       "141612      1\n",
       "44779     NaN\n",
       "Name: no_stops, dtype: object"
      ]
     },
     "execution_count": 13,
     "metadata": {},
     "output_type": "execute_result"
    }
   ],
   "source": [
    "df['no_stops'].sample(5)"
   ]
  },
  {
   "cell_type": "code",
   "execution_count": 14,
   "id": "0dd8a0b7-1f58-490f-b9c9-3d801c2e998c",
   "metadata": {},
   "outputs": [],
   "source": [
    "df['no_stops'] = df['no_stops'].replace('1','one').replace('0','no_stop').replace('2','more_than_two')"
   ]
  },
  {
   "cell_type": "code",
   "execution_count": 15,
   "id": "b88f72fb-e770-47ca-ac55-c1bbf0380ba1",
   "metadata": {},
   "outputs": [
    {
     "data": {
      "text/plain": [
       "50555     one\n",
       "127536    one\n",
       "44316     one\n",
       "102154    one\n",
       "61364     one\n",
       "Name: no_stops, dtype: object"
      ]
     },
     "execution_count": 15,
     "metadata": {},
     "output_type": "execute_result"
    }
   ],
   "source": [
    "df['no_stops'].sample(5)"
   ]
  },
  {
   "cell_type": "code",
   "execution_count": 16,
   "id": "1d4a94b0-d3c1-4049-86fe-a5aff0590204",
   "metadata": {},
   "outputs": [],
   "source": [
    "df = df.drop(columns='stop')"
   ]
  },
  {
   "cell_type": "code",
   "execution_count": 17,
   "id": "958e0e2c-aa10-49c4-ba7a-4fe96de750e6",
   "metadata": {},
   "outputs": [],
   "source": [
    "df['num_code'] = df['num_code'].astype(str)"
   ]
  },
  {
   "cell_type": "code",
   "execution_count": 18,
   "id": "ff557d19-0dd1-4fe8-a735-cafd9ac9d8a6",
   "metadata": {},
   "outputs": [],
   "source": [
    "df['flights'] = df['ch_code'] + '-' + df['num_code']"
   ]
  },
  {
   "cell_type": "code",
   "execution_count": 19,
   "id": "e1d6ebe0-d71a-4e7b-a3d6-04a47f5b7c70",
   "metadata": {},
   "outputs": [
    {
     "data": {
      "text/plain": [
       "150109     AI-676\n",
       "185074     SG-678\n",
       "62436     6E-5312\n",
       "14961      UK-933\n",
       "41918      UK-854\n",
       "Name: flights, dtype: object"
      ]
     },
     "execution_count": 19,
     "metadata": {},
     "output_type": "execute_result"
    }
   ],
   "source": [
    "df['flights'].sample(5)"
   ]
  },
  {
   "cell_type": "code",
   "execution_count": 20,
   "id": "09057ff8-7788-44b0-841a-c0bbbbda9ecc",
   "metadata": {},
   "outputs": [],
   "source": [
    "df = df.drop(columns='ch_code')"
   ]
  },
  {
   "cell_type": "code",
   "execution_count": 21,
   "id": "37a56076-b78e-4f6d-9ec2-2eaab501cb7c",
   "metadata": {},
   "outputs": [],
   "source": [
    "df = df.drop(columns='num_code')"
   ]
  },
  {
   "cell_type": "code",
   "execution_count": 22,
   "id": "ed522dfc-041c-49f7-966e-b4bb3e826a56",
   "metadata": {},
   "outputs": [
    {
     "name": "stdout",
     "output_type": "stream",
     "text": [
      "<class 'pandas.core.frame.DataFrame'>\n",
      "Int64Index: 300261 entries, 0 to 93486\n",
      "Data columns (total 10 columns):\n",
      " #   Column      Non-Null Count   Dtype \n",
      "---  ------      --------------   ----- \n",
      " 0   date        300261 non-null  object\n",
      " 1   airline     300261 non-null  object\n",
      " 2   dep_time    300261 non-null  object\n",
      " 3   from        300261 non-null  object\n",
      " 4   time_taken  300261 non-null  object\n",
      " 5   arr_time    300261 non-null  object\n",
      " 6   to          300261 non-null  object\n",
      " 7   price       300261 non-null  object\n",
      " 8   no_stops    264217 non-null  object\n",
      " 9   flights     300261 non-null  object\n",
      "dtypes: object(10)\n",
      "memory usage: 25.2+ MB\n"
     ]
    }
   ],
   "source": [
    "df.info()"
   ]
  },
  {
   "cell_type": "code",
   "execution_count": 23,
   "id": "ef758515-7c44-452c-8fe2-c92e569495da",
   "metadata": {},
   "outputs": [],
   "source": [
    "df['date'] = pd.to_datetime(df['date'])"
   ]
  },
  {
   "cell_type": "code",
   "execution_count": 24,
   "id": "fb218a0e-1c95-45ea-b473-a37bf1d78267",
   "metadata": {},
   "outputs": [
    {
     "name": "stdout",
     "output_type": "stream",
     "text": [
      "<class 'pandas.core.frame.DataFrame'>\n",
      "Int64Index: 300261 entries, 0 to 93486\n",
      "Data columns (total 10 columns):\n",
      " #   Column      Non-Null Count   Dtype         \n",
      "---  ------      --------------   -----         \n",
      " 0   date        300261 non-null  datetime64[ns]\n",
      " 1   airline     300261 non-null  object        \n",
      " 2   dep_time    300261 non-null  object        \n",
      " 3   from        300261 non-null  object        \n",
      " 4   time_taken  300261 non-null  object        \n",
      " 5   arr_time    300261 non-null  object        \n",
      " 6   to          300261 non-null  object        \n",
      " 7   price       300261 non-null  object        \n",
      " 8   no_stops    264217 non-null  object        \n",
      " 9   flights     300261 non-null  object        \n",
      "dtypes: datetime64[ns](1), object(9)\n",
      "memory usage: 25.2+ MB\n"
     ]
    }
   ],
   "source": [
    "df.info()"
   ]
  },
  {
   "cell_type": "code",
   "execution_count": 25,
   "id": "852f387a-e35c-47ce-9e86-6be7f248ebc9",
   "metadata": {},
   "outputs": [],
   "source": [
    "df=df.sort_values(by='date')"
   ]
  },
  {
   "cell_type": "code",
   "execution_count": 26,
   "id": "8cd0b2d9-37ba-4995-9997-335987a2166b",
   "metadata": {},
   "outputs": [
    {
     "data": {
      "text/html": [
       "<div>\n",
       "<style scoped>\n",
       "    .dataframe tbody tr th:only-of-type {\n",
       "        vertical-align: middle;\n",
       "    }\n",
       "\n",
       "    .dataframe tbody tr th {\n",
       "        vertical-align: top;\n",
       "    }\n",
       "\n",
       "    .dataframe thead th {\n",
       "        text-align: right;\n",
       "    }\n",
       "</style>\n",
       "<table border=\"1\" class=\"dataframe\">\n",
       "  <thead>\n",
       "    <tr style=\"text-align: right;\">\n",
       "      <th></th>\n",
       "      <th>date</th>\n",
       "      <th>airline</th>\n",
       "      <th>dep_time</th>\n",
       "      <th>from</th>\n",
       "      <th>time_taken</th>\n",
       "      <th>arr_time</th>\n",
       "      <th>to</th>\n",
       "      <th>price</th>\n",
       "      <th>no_stops</th>\n",
       "      <th>flights</th>\n",
       "    </tr>\n",
       "  </thead>\n",
       "  <tbody>\n",
       "    <tr>\n",
       "      <th>167378</th>\n",
       "      <td>2022-01-03</td>\n",
       "      <td>Indigo</td>\n",
       "      <td>10:55</td>\n",
       "      <td>Hyderabad</td>\n",
       "      <td>07h 50m</td>\n",
       "      <td>18:45</td>\n",
       "      <td>Bangalore</td>\n",
       "      <td>6,606</td>\n",
       "      <td>one</td>\n",
       "      <td>6E-7211</td>\n",
       "    </tr>\n",
       "  </tbody>\n",
       "</table>\n",
       "</div>"
      ],
      "text/plain": [
       "             date airline dep_time       from time_taken arr_time         to  \\\n",
       "167378 2022-01-03  Indigo    10:55  Hyderabad    07h 50m    18:45  Bangalore   \n",
       "\n",
       "        price no_stops  flights  \n",
       "167378  6,606      one  6E-7211  "
      ]
     },
     "execution_count": 26,
     "metadata": {},
     "output_type": "execute_result"
    }
   ],
   "source": [
    "df.head(1)"
   ]
  },
  {
   "cell_type": "code",
   "execution_count": 27,
   "id": "5c27e3c5-5e02-4038-8db0-018c9b4dadae",
   "metadata": {},
   "outputs": [],
   "source": [
    "df['dept_month'] = df['date'].dt.month_name()"
   ]
  },
  {
   "cell_type": "code",
   "execution_count": 28,
   "id": "5528fa03-1f2a-4cdc-9c65-feb0304fb2cf",
   "metadata": {},
   "outputs": [],
   "source": [
    "df['day'] = df['date'].dt.day"
   ]
  },
  {
   "cell_type": "code",
   "execution_count": 29,
   "id": "cc10a6b1-2be7-441e-9516-8c7e424aef1f",
   "metadata": {},
   "outputs": [
    {
     "data": {
      "text/plain": [
       "29749    February\n",
       "4363          May\n",
       "53666    February\n",
       "Name: dept_month, dtype: object"
      ]
     },
     "execution_count": 29,
     "metadata": {},
     "output_type": "execute_result"
    }
   ],
   "source": [
    "df['dept_month'].sample(3)"
   ]
  },
  {
   "cell_type": "code",
   "execution_count": 30,
   "id": "5e4d2222-a8af-4aba-9ffb-3f3703c416a5",
   "metadata": {},
   "outputs": [
    {
     "name": "stdout",
     "output_type": "stream",
     "text": [
      "<class 'pandas.core.frame.DataFrame'>\n",
      "Int64Index: 300261 entries, 167378 to 75231\n",
      "Data columns (total 12 columns):\n",
      " #   Column      Non-Null Count   Dtype         \n",
      "---  ------      --------------   -----         \n",
      " 0   date        300261 non-null  datetime64[ns]\n",
      " 1   airline     300261 non-null  object        \n",
      " 2   dep_time    300261 non-null  object        \n",
      " 3   from        300261 non-null  object        \n",
      " 4   time_taken  300261 non-null  object        \n",
      " 5   arr_time    300261 non-null  object        \n",
      " 6   to          300261 non-null  object        \n",
      " 7   price       300261 non-null  object        \n",
      " 8   no_stops    264217 non-null  object        \n",
      " 9   flights     300261 non-null  object        \n",
      " 10  dept_month  300261 non-null  object        \n",
      " 11  day         300261 non-null  int64         \n",
      "dtypes: datetime64[ns](1), int64(1), object(10)\n",
      "memory usage: 29.8+ MB\n"
     ]
    }
   ],
   "source": [
    "df.info()"
   ]
  },
  {
   "cell_type": "code",
   "execution_count": 31,
   "id": "88b11273-2a55-4295-8741-de875dbf077a",
   "metadata": {},
   "outputs": [],
   "source": [
    "# df['time_taken'] = pd.to_datetime(df['time_taken'])"
   ]
  },
  {
   "cell_type": "code",
   "execution_count": 32,
   "id": "ef325d3f-bdfe-4caf-8ce7-8631efe93dbe",
   "metadata": {},
   "outputs": [],
   "source": [
    "df['dep_hour'] = pd.to_datetime(df['dep_time']).dt.hour\n",
    "df['dep_min'] = pd.to_datetime(df['dep_time']).dt.minute\n"
   ]
  },
  {
   "cell_type": "code",
   "execution_count": 33,
   "id": "089213bb-0434-4016-8d2e-63ba01533d1a",
   "metadata": {},
   "outputs": [],
   "source": [
    "df['arr_hour'] = pd.to_datetime(df['arr_time']).dt.hour\n",
    "df['arr_min'] = pd.to_datetime(df['arr_time']).dt.minute"
   ]
  },
  {
   "cell_type": "code",
   "execution_count": 34,
   "id": "cb8dfafd-8058-47b6-95fc-cb2fc28e27c7",
   "metadata": {},
   "outputs": [],
   "source": [
    "df = df.drop(columns='dep_time')"
   ]
  },
  {
   "cell_type": "code",
   "execution_count": 35,
   "id": "9ffd8994-9753-44cc-aa92-fd9a471a26b8",
   "metadata": {},
   "outputs": [],
   "source": [
    "df = df.drop(columns='arr_time')"
   ]
  },
  {
   "cell_type": "code",
   "execution_count": 36,
   "id": "e4f68932-69d1-479d-9ce1-8bb6d1e6b991",
   "metadata": {},
   "outputs": [],
   "source": [
    "# duration = list(df['time_taken'])\n",
    "\n",
    "# for i in range(len(duration)):\n",
    "#     if len(duration[i].split()) !=2:\n",
    "#         if 'h' in duration[i]:\n",
    "#             duration[i] = duration[i].strip() + '0m'\n",
    "#         else:\n",
    "#             duration[i] = '0h' + duration[i]\n",
    "            \n",
    "# duration_hours = []\n",
    "# duration_mins = []\n",
    "# for i in range(len(duration)):\n",
    "#     duration_hours.append(int(duration[i].split(sep='h')[0]))\n",
    "#     duration_mins.append(int(duration[i].split(sep='m')[0].split()[-1]))"
   ]
  },
  {
   "cell_type": "code",
   "execution_count": 37,
   "id": "5ab607cc-984e-49cd-822b-ff95c3328e32",
   "metadata": {},
   "outputs": [],
   "source": [
    "# duration.replace('h','').replace('m','').replace(' ','.')"
   ]
  },
  {
   "cell_type": "code",
   "execution_count": 38,
   "id": "5bade184-18c4-4894-a3ec-838254421af0",
   "metadata": {},
   "outputs": [
    {
     "ename": "SyntaxError",
     "evalue": "invalid syntax (Temp/ipykernel_11096/3822371918.py, line 1)",
     "output_type": "error",
     "traceback": [
      "\u001b[1;36m  File \u001b[1;32m\"C:\\Users\\91777\\AppData\\Local\\Temp/ipykernel_11096/3822371918.py\"\u001b[1;36m, line \u001b[1;32m1\u001b[0m\n\u001b[1;33m    .df['time_taken'] = df['time_taken'].str.replace('h','').str.replace('m','').str.replace(' ','.')\u001b[0m\n\u001b[1;37m    ^\u001b[0m\n\u001b[1;31mSyntaxError\u001b[0m\u001b[1;31m:\u001b[0m invalid syntax\n"
     ]
    }
   ],
   "source": [
    "# df['time_taken'] = df['time_taken'].str.replace('h','').str.replace('m','').str.replace(' ','.')"
   ]
  },
  {
   "cell_type": "code",
   "execution_count": null,
   "id": "2108dad9-cbc3-4e4b-a9fe-e9a7f7db6b96",
   "metadata": {},
   "outputs": [],
   "source": [
    "df['time_taken'].sample()"
   ]
  },
  {
   "cell_type": "code",
   "execution_count": null,
   "id": "914cbe2c-e91b-4ba7-bfec-affc697b26ea",
   "metadata": {},
   "outputs": [],
   "source": [
    "df['time_taken'].astype(float)"
   ]
  },
  {
   "cell_type": "code",
   "execution_count": null,
   "id": "5c07d877-d4f3-4321-9be9-647456dfaa03",
   "metadata": {},
   "outputs": [],
   "source": [
    "df['time_taken'] = df['time_taken'].str.replace('h','').str.replace('m','').str.replace(' ','.').apply(eval)"
   ]
  },
  {
   "cell_type": "code",
   "execution_count": null,
   "id": "cad44337-931d-44e5-abb3-b27c7ee05a43",
   "metadata": {},
   "outputs": [],
   "source": [
    "a = '0.8'"
   ]
  },
  {
   "cell_type": "code",
   "execution_count": null,
   "id": "84b1a831-cc04-4832-82e9-f3352ffc0820",
   "metadata": {},
   "outputs": [],
   "source": [
    "float(a)"
   ]
  },
  {
   "cell_type": "code",
   "execution_count": null,
   "id": "43903f62-48e4-4ba9-aca6-f281dd0aa1c0",
   "metadata": {},
   "outputs": [],
   "source": [
    "a='08.09.'"
   ]
  },
  {
   "cell_type": "code",
   "execution_count": null,
   "id": "10ce2dec-0b28-4108-b535-b0753bc02067",
   "metadata": {},
   "outputs": [],
   "source": [
    "df.head()"
   ]
  },
  {
   "cell_type": "code",
   "execution_count": 6,
   "id": "f75facf9-abe2-4371-9f0d-cb16ea8b4fe4",
   "metadata": {},
   "outputs": [],
   "source": [
    "data = pd.read_csv('Clean_Dataset.csv')\n",
    "dff = pd.read_csv('Clean_Dataset.csv')"
   ]
  },
  {
   "cell_type": "code",
   "execution_count": 7,
   "id": "859f6e49-c171-4510-9544-1f32973e688b",
   "metadata": {},
   "outputs": [
    {
     "data": {
      "text/html": [
       "<div>\n",
       "<style scoped>\n",
       "    .dataframe tbody tr th:only-of-type {\n",
       "        vertical-align: middle;\n",
       "    }\n",
       "\n",
       "    .dataframe tbody tr th {\n",
       "        vertical-align: top;\n",
       "    }\n",
       "\n",
       "    .dataframe thead th {\n",
       "        text-align: right;\n",
       "    }\n",
       "</style>\n",
       "<table border=\"1\" class=\"dataframe\">\n",
       "  <thead>\n",
       "    <tr style=\"text-align: right;\">\n",
       "      <th></th>\n",
       "      <th>Unnamed: 0</th>\n",
       "      <th>airline</th>\n",
       "      <th>flight</th>\n",
       "      <th>source_city</th>\n",
       "      <th>departure_time</th>\n",
       "      <th>stops</th>\n",
       "      <th>arrival_time</th>\n",
       "      <th>destination_city</th>\n",
       "      <th>class</th>\n",
       "      <th>duration</th>\n",
       "      <th>days_left</th>\n",
       "      <th>price</th>\n",
       "    </tr>\n",
       "  </thead>\n",
       "  <tbody>\n",
       "    <tr>\n",
       "      <th>0</th>\n",
       "      <td>0</td>\n",
       "      <td>SpiceJet</td>\n",
       "      <td>SG-8709</td>\n",
       "      <td>Delhi</td>\n",
       "      <td>Evening</td>\n",
       "      <td>zero</td>\n",
       "      <td>Night</td>\n",
       "      <td>Mumbai</td>\n",
       "      <td>Economy</td>\n",
       "      <td>2.17</td>\n",
       "      <td>1</td>\n",
       "      <td>5953</td>\n",
       "    </tr>\n",
       "    <tr>\n",
       "      <th>1</th>\n",
       "      <td>1</td>\n",
       "      <td>SpiceJet</td>\n",
       "      <td>SG-8157</td>\n",
       "      <td>Delhi</td>\n",
       "      <td>Early_Morning</td>\n",
       "      <td>zero</td>\n",
       "      <td>Morning</td>\n",
       "      <td>Mumbai</td>\n",
       "      <td>Economy</td>\n",
       "      <td>2.33</td>\n",
       "      <td>1</td>\n",
       "      <td>5953</td>\n",
       "    </tr>\n",
       "    <tr>\n",
       "      <th>2</th>\n",
       "      <td>2</td>\n",
       "      <td>AirAsia</td>\n",
       "      <td>I5-764</td>\n",
       "      <td>Delhi</td>\n",
       "      <td>Early_Morning</td>\n",
       "      <td>zero</td>\n",
       "      <td>Early_Morning</td>\n",
       "      <td>Mumbai</td>\n",
       "      <td>Economy</td>\n",
       "      <td>2.17</td>\n",
       "      <td>1</td>\n",
       "      <td>5956</td>\n",
       "    </tr>\n",
       "    <tr>\n",
       "      <th>3</th>\n",
       "      <td>3</td>\n",
       "      <td>Vistara</td>\n",
       "      <td>UK-995</td>\n",
       "      <td>Delhi</td>\n",
       "      <td>Morning</td>\n",
       "      <td>zero</td>\n",
       "      <td>Afternoon</td>\n",
       "      <td>Mumbai</td>\n",
       "      <td>Economy</td>\n",
       "      <td>2.25</td>\n",
       "      <td>1</td>\n",
       "      <td>5955</td>\n",
       "    </tr>\n",
       "    <tr>\n",
       "      <th>4</th>\n",
       "      <td>4</td>\n",
       "      <td>Vistara</td>\n",
       "      <td>UK-963</td>\n",
       "      <td>Delhi</td>\n",
       "      <td>Morning</td>\n",
       "      <td>zero</td>\n",
       "      <td>Morning</td>\n",
       "      <td>Mumbai</td>\n",
       "      <td>Economy</td>\n",
       "      <td>2.33</td>\n",
       "      <td>1</td>\n",
       "      <td>5955</td>\n",
       "    </tr>\n",
       "  </tbody>\n",
       "</table>\n",
       "</div>"
      ],
      "text/plain": [
       "   Unnamed: 0   airline   flight source_city departure_time stops  \\\n",
       "0           0  SpiceJet  SG-8709       Delhi        Evening  zero   \n",
       "1           1  SpiceJet  SG-8157       Delhi  Early_Morning  zero   \n",
       "2           2   AirAsia   I5-764       Delhi  Early_Morning  zero   \n",
       "3           3   Vistara   UK-995       Delhi        Morning  zero   \n",
       "4           4   Vistara   UK-963       Delhi        Morning  zero   \n",
       "\n",
       "    arrival_time destination_city    class  duration  days_left  price  \n",
       "0          Night           Mumbai  Economy      2.17          1   5953  \n",
       "1        Morning           Mumbai  Economy      2.33          1   5953  \n",
       "2  Early_Morning           Mumbai  Economy      2.17          1   5956  \n",
       "3      Afternoon           Mumbai  Economy      2.25          1   5955  \n",
       "4        Morning           Mumbai  Economy      2.33          1   5955  "
      ]
     },
     "execution_count": 7,
     "metadata": {},
     "output_type": "execute_result"
    }
   ],
   "source": [
    "data.head()"
   ]
  },
  {
   "cell_type": "code",
   "execution_count": 8,
   "id": "e9c1ee5a-6ff3-4121-80a4-64a1d9a8291b",
   "metadata": {},
   "outputs": [
    {
     "name": "stdout",
     "output_type": "stream",
     "text": [
      "<class 'pandas.core.frame.DataFrame'>\n",
      "RangeIndex: 300153 entries, 0 to 300152\n",
      "Data columns (total 12 columns):\n",
      " #   Column            Non-Null Count   Dtype  \n",
      "---  ------            --------------   -----  \n",
      " 0   Unnamed: 0        300153 non-null  int64  \n",
      " 1   airline           300153 non-null  object \n",
      " 2   flight            300153 non-null  object \n",
      " 3   source_city       300153 non-null  object \n",
      " 4   departure_time    300153 non-null  object \n",
      " 5   stops             300153 non-null  object \n",
      " 6   arrival_time      300153 non-null  object \n",
      " 7   destination_city  300153 non-null  object \n",
      " 8   class             300153 non-null  object \n",
      " 9   duration          300153 non-null  float64\n",
      " 10  days_left         300153 non-null  int64  \n",
      " 11  price             300153 non-null  int64  \n",
      "dtypes: float64(1), int64(3), object(8)\n",
      "memory usage: 27.5+ MB\n"
     ]
    }
   ],
   "source": [
    "data.info()"
   ]
  },
  {
   "cell_type": "code",
   "execution_count": 9,
   "id": "70528b59-e375-4ca8-a520-9051a2ebb2db",
   "metadata": {},
   "outputs": [
    {
     "data": {
      "text/plain": [
       "Vistara      127859\n",
       "Air_India     80892\n",
       "Indigo        43120\n",
       "GO_FIRST      23173\n",
       "AirAsia       16098\n",
       "SpiceJet       9011\n",
       "Name: airline, dtype: int64"
      ]
     },
     "execution_count": 9,
     "metadata": {},
     "output_type": "execute_result"
    }
   ],
   "source": [
    "data['airline'].value_counts()"
   ]
  },
  {
   "cell_type": "code",
   "execution_count": 10,
   "id": "ea6cec82-c81a-4769-b043-3e3795182a6c",
   "metadata": {},
   "outputs": [
    {
     "data": {
      "text/plain": [
       "UK-706     3235\n",
       "UK-772     2741\n",
       "UK-720     2650\n",
       "UK-836     2542\n",
       "UK-822     2468\n",
       "           ... \n",
       "G8-116      506\n",
       "AI-9517     505\n",
       "AI-839      503\n",
       "G8-227      501\n",
       "AI-401      492\n",
       "Name: flight, Length: 145, dtype: int64"
      ]
     },
     "execution_count": 10,
     "metadata": {},
     "output_type": "execute_result"
    }
   ],
   "source": [
    "data['flight'].value_counts().iloc[:145]"
   ]
  },
  {
   "cell_type": "code",
   "execution_count": 11,
   "id": "6a3267a3-3d6a-44ac-bec1-67d80964a8c1",
   "metadata": {},
   "outputs": [
    {
     "data": {
      "text/plain": [
       "False    1417\n",
       "True      144\n",
       "Name: flight, dtype: int64"
      ]
     },
     "execution_count": 11,
     "metadata": {},
     "output_type": "execute_result"
    }
   ],
   "source": [
    "(data['flight'].value_counts() > 500).value_counts()"
   ]
  },
  {
   "cell_type": "code",
   "execution_count": 12,
   "id": "f87ad89c-8dc1-46ae-80fa-e75a51aa1cb1",
   "metadata": {},
   "outputs": [],
   "source": [
    "# rep = df['CarName'].value_counts()[df['CarName'].value_counts() < 2].index\n",
    "rep = data['flight'].value_counts()[data['flight'].value_counts() < 500].index"
   ]
  },
  {
   "cell_type": "code",
   "execution_count": 13,
   "id": "4d038611-2fc4-4800-8d1b-71e9e8e235f3",
   "metadata": {},
   "outputs": [],
   "source": [
    "data['flight'] = data['flight'].replace(rep,'others')"
   ]
  },
  {
   "cell_type": "code",
   "execution_count": 14,
   "id": "5e7f8c72-df62-4c3a-8baa-90338de24c84",
   "metadata": {},
   "outputs": [
    {
     "data": {
      "text/plain": [
       "Delhi        61343\n",
       "Mumbai       60896\n",
       "Bangalore    52061\n",
       "Kolkata      46347\n",
       "Hyderabad    40806\n",
       "Chennai      38700\n",
       "Name: source_city, dtype: int64"
      ]
     },
     "execution_count": 14,
     "metadata": {},
     "output_type": "execute_result"
    }
   ],
   "source": [
    "data['source_city'].value_counts()"
   ]
  },
  {
   "cell_type": "code",
   "execution_count": 15,
   "id": "60e83a02-70f8-4676-81e3-542d4e12565c",
   "metadata": {},
   "outputs": [
    {
     "data": {
      "text/plain": [
       "Morning          71146\n",
       "Early_Morning    66790\n",
       "Evening          65102\n",
       "Night            48015\n",
       "Afternoon        47794\n",
       "Late_Night        1306\n",
       "Name: departure_time, dtype: int64"
      ]
     },
     "execution_count": 15,
     "metadata": {},
     "output_type": "execute_result"
    }
   ],
   "source": [
    "data['departure_time'].value_counts()"
   ]
  },
  {
   "cell_type": "code",
   "execution_count": 16,
   "id": "be0a0d8f-c3e2-4525-a102-b2368c982497",
   "metadata": {},
   "outputs": [
    {
     "data": {
      "text/plain": [
       "one            250863\n",
       "zero            36004\n",
       "two_or_more     13286\n",
       "Name: stops, dtype: int64"
      ]
     },
     "execution_count": 16,
     "metadata": {},
     "output_type": "execute_result"
    }
   ],
   "source": [
    "\n",
    "data['stops'].value_counts()"
   ]
  },
  {
   "cell_type": "code",
   "execution_count": 17,
   "id": "105b859c-fddd-4091-9247-31d18f6edaa4",
   "metadata": {},
   "outputs": [
    {
     "data": {
      "text/plain": [
       "Economy     206666\n",
       "Business     93487\n",
       "Name: class, dtype: int64"
      ]
     },
     "execution_count": 17,
     "metadata": {},
     "output_type": "execute_result"
    }
   ],
   "source": [
    "data['class'].value_counts()"
   ]
  },
  {
   "cell_type": "code",
   "execution_count": 18,
   "id": "55219ca6-97e4-41b6-af78-f556816c4ec9",
   "metadata": {},
   "outputs": [],
   "source": [
    "data = data.drop(columns='Unnamed: 0')"
   ]
  },
  {
   "cell_type": "code",
   "execution_count": 19,
   "id": "efbcfbcb-d226-4627-8a4e-b3f07db0a1f4",
   "metadata": {},
   "outputs": [
    {
     "data": {
      "text/plain": [
       "<AxesSubplot:>"
      ]
     },
     "execution_count": 19,
     "metadata": {},
     "output_type": "execute_result"
    },
    {
     "data": {
      "image/png": "[encoded data removed]",
      "text/plain": [
       "<Figure size 432x288 with 2 Axes>"
      ]
     },
     "metadata": {
      "needs_background": "light"
     },
     "output_type": "display_data"
    }
   ],
   "source": [
    "sns.heatmap(data.corr(),annot=True)"
   ]
  },
  {
   "cell_type": "code",
   "execution_count": 20,
   "id": "b86b4b7e-37e9-4674-9b0a-f24f31e669af",
   "metadata": {},
   "outputs": [
    {
     "name": "stderr",
     "output_type": "stream",
     "text": [
      "C:\\Users\\91777\\anaconda3\\lib\\site-packages\\seaborn\\_decorators.py:36: FutureWarning: Pass the following variable as a keyword arg: x. From version 0.12, the only valid positional argument will be `data`, and passing other arguments without an explicit keyword will result in an error or misinterpretation.\n",
      "  warnings.warn(\n"
     ]
    },
    {
     "data": {
      "text/plain": [
       "<AxesSubplot:xlabel='airline', ylabel='count'>"
      ]
     },
     "execution_count": 20,
     "metadata": {},
     "output_type": "execute_result"
    },
    {
     "data": {
      "image/png": "[encoded data removed]",
      "text/plain": [
       "<Figure size 432x288 with 1 Axes>"
      ]
     },
     "metadata": {
      "needs_background": "light"
     },
     "output_type": "display_data"
    }
   ],
   "source": [
    "sns.countplot(data['airline'])"
   ]
  },
  {
   "cell_type": "code",
   "execution_count": 21,
   "id": "cabf0146-2ec0-40c1-a75a-077efab1c567",
   "metadata": {},
   "outputs": [
    {
     "name": "stderr",
     "output_type": "stream",
     "text": [
      "C:\\Users\\91777\\anaconda3\\lib\\site-packages\\seaborn\\_decorators.py:36: FutureWarning: Pass the following variable as a keyword arg: x. From version 0.12, the only valid positional argument will be `data`, and passing other arguments without an explicit keyword will result in an error or misinterpretation.\n",
      "  warnings.warn(\n"
     ]
    },
    {
     "data": {
      "text/plain": [
       "<AxesSubplot:xlabel='departure_time', ylabel='count'>"
      ]
     },
     "execution_count": 21,
     "metadata": {},
     "output_type": "execute_result"
    },
    {
     "data": {
      "image/png": "[encoded data removed]",
      "text/plain": [
       "<Figure size 432x288 with 1 Axes>"
      ]
     },
     "metadata": {
      "needs_background": "light"
     },
     "output_type": "display_data"
    }
   ],
   "source": [
    "sns.countplot(data['departure_time'])"
   ]
  },
  {
   "cell_type": "code",
   "execution_count": 22,
   "id": "2e0d7a16-0458-4bf3-861c-f07ae89154c4",
   "metadata": {},
   "outputs": [
    {
     "data": {
      "text/plain": [
       "<AxesSubplot:xlabel='departure_time', ylabel='price'>"
      ]
     },
     "execution_count": 22,
     "metadata": {},
     "output_type": "execute_result"
    },
    {
     "data": {
      "image/png": "[encoded data removed]",
      "text/plain": [
       "<Figure size 432x288 with 1 Axes>"
      ]
     },
     "metadata": {
      "needs_background": "light"
     },
     "output_type": "display_data"
    }
   ],
   "source": [
    "sns.barplot(x = data['departure_time'],y=data['price'])"
   ]
  },
  {
   "cell_type": "code",
   "execution_count": 23,
   "id": "7ce54192-7303-4890-9190-274c70efbf5f",
   "metadata": {},
   "outputs": [
    {
     "data": {
      "text/plain": [
       "<AxesSubplot:xlabel='duration', ylabel='price'>"
      ]
     },
     "execution_count": 23,
     "metadata": {},
     "output_type": "execute_result"
    },
    {
     "data": {
      "image/png": "[encoded data removed]",
      "text/plain": [
       "<Figure size 432x288 with 1 Axes>"
      ]
     },
     "metadata": {
      "needs_background": "light"
     },
     "output_type": "display_data"
    }
   ],
   "source": [
    "sns.scatterplot(x = data['duration'],y=data['price'])"
   ]
  },
  {
   "cell_type": "code",
   "execution_count": 24,
   "id": "19e43615-0b0c-4cdf-98fc-4aa9f1c51b02",
   "metadata": {},
   "outputs": [
    {
     "name": "stderr",
     "output_type": "stream",
     "text": [
      "C:\\Users\\91777\\anaconda3\\lib\\site-packages\\seaborn\\_decorators.py:36: FutureWarning: Pass the following variable as a keyword arg: x. From version 0.12, the only valid positional argument will be `data`, and passing other arguments without an explicit keyword will result in an error or misinterpretation.\n",
      "  warnings.warn(\n"
     ]
    },
    {
     "data": {
      "text/plain": [
       "<AxesSubplot:xlabel='duration'>"
      ]
     },
     "execution_count": 24,
     "metadata": {},
     "output_type": "execute_result"
    },
    {
     "data": {
      "image/png": "[encoded data removed]",
      "text/plain": [
       "<Figure size 432x288 with 1 Axes>"
      ]
     },
     "metadata": {
      "needs_background": "light"
     },
     "output_type": "display_data"
    }
   ],
   "source": [
    "sns.boxplot(data['duration'])"
   ]
  },
  {
   "cell_type": "code",
   "execution_count": 25,
   "id": "0ff26718-d69c-4476-9c3d-64ed160d4ad0",
   "metadata": {},
   "outputs": [
    {
     "name": "stderr",
     "output_type": "stream",
     "text": [
      "C:\\Users\\91777\\anaconda3\\lib\\site-packages\\seaborn\\_decorators.py:36: FutureWarning: Pass the following variable as a keyword arg: x. From version 0.12, the only valid positional argument will be `data`, and passing other arguments without an explicit keyword will result in an error or misinterpretation.\n",
      "  warnings.warn(\n"
     ]
    },
    {
     "data": {
      "text/plain": [
       "<AxesSubplot:xlabel='days_left'>"
      ]
     },
     "execution_count": 25,
     "metadata": {},
     "output_type": "execute_result"
    },
    {
     "data": {
      "image/png": "[encoded data removed]",
      "text/plain": [
       "<Figure size 432x288 with 1 Axes>"
      ]
     },
     "metadata": {
      "needs_background": "light"
     },
     "output_type": "display_data"
    }
   ],
   "source": [
    "sns.boxplot(data['days_left'])"
   ]
  },
  {
   "cell_type": "code",
   "execution_count": 26,
   "id": "35804df9-0f2d-4cf7-a0b3-0eabd4005ee4",
   "metadata": {},
   "outputs": [
    {
     "name": "stderr",
     "output_type": "stream",
     "text": [
      "C:\\Users\\91777\\anaconda3\\lib\\site-packages\\seaborn\\_decorators.py:36: FutureWarning: Pass the following variable as a keyword arg: x. From version 0.12, the only valid positional argument will be `data`, and passing other arguments without an explicit keyword will result in an error or misinterpretation.\n",
      "  warnings.warn(\n"
     ]
    },
    {
     "data": {
      "text/plain": [
       "<AxesSubplot:xlabel='price'>"
      ]
     },
     "execution_count": 26,
     "metadata": {},
     "output_type": "execute_result"
    },
    {
     "data": {
      "image/png": "[encoded data removed]",
      "text/plain": [
       "<Figure size 432x288 with 1 Axes>"
      ]
     },
     "metadata": {
      "needs_background": "light"
     },
     "output_type": "display_data"
    }
   ],
   "source": [
    "sns.boxplot(data['price'])"
   ]
  },
  {
   "cell_type": "code",
   "execution_count": 27,
   "id": "8a85b6e2-6537-4623-bc33-c0d6da5da29d",
   "metadata": {},
   "outputs": [
    {
     "data": {
      "text/html": [
       "<div>\n",
       "<style scoped>\n",
       "    .dataframe tbody tr th:only-of-type {\n",
       "        vertical-align: middle;\n",
       "    }\n",
       "\n",
       "    .dataframe tbody tr th {\n",
       "        vertical-align: top;\n",
       "    }\n",
       "\n",
       "    .dataframe thead th {\n",
       "        text-align: right;\n",
       "    }\n",
       "</style>\n",
       "<table border=\"1\" class=\"dataframe\">\n",
       "  <thead>\n",
       "    <tr style=\"text-align: right;\">\n",
       "      <th></th>\n",
       "      <th>duration</th>\n",
       "      <th>days_left</th>\n",
       "      <th>price</th>\n",
       "    </tr>\n",
       "  </thead>\n",
       "  <tbody>\n",
       "    <tr>\n",
       "      <th>count</th>\n",
       "      <td>300153.000000</td>\n",
       "      <td>300153.000000</td>\n",
       "      <td>300153.000000</td>\n",
       "    </tr>\n",
       "    <tr>\n",
       "      <th>mean</th>\n",
       "      <td>12.221021</td>\n",
       "      <td>26.004751</td>\n",
       "      <td>20889.660523</td>\n",
       "    </tr>\n",
       "    <tr>\n",
       "      <th>std</th>\n",
       "      <td>7.191997</td>\n",
       "      <td>13.561004</td>\n",
       "      <td>22697.767366</td>\n",
       "    </tr>\n",
       "    <tr>\n",
       "      <th>min</th>\n",
       "      <td>0.830000</td>\n",
       "      <td>1.000000</td>\n",
       "      <td>1105.000000</td>\n",
       "    </tr>\n",
       "    <tr>\n",
       "      <th>25%</th>\n",
       "      <td>6.830000</td>\n",
       "      <td>15.000000</td>\n",
       "      <td>4783.000000</td>\n",
       "    </tr>\n",
       "    <tr>\n",
       "      <th>50%</th>\n",
       "      <td>11.250000</td>\n",
       "      <td>26.000000</td>\n",
       "      <td>7425.000000</td>\n",
       "    </tr>\n",
       "    <tr>\n",
       "      <th>75%</th>\n",
       "      <td>16.170000</td>\n",
       "      <td>38.000000</td>\n",
       "      <td>42521.000000</td>\n",
       "    </tr>\n",
       "    <tr>\n",
       "      <th>max</th>\n",
       "      <td>49.830000</td>\n",
       "      <td>49.000000</td>\n",
       "      <td>123071.000000</td>\n",
       "    </tr>\n",
       "  </tbody>\n",
       "</table>\n",
       "</div>"
      ],
      "text/plain": [
       "            duration      days_left          price\n",
       "count  300153.000000  300153.000000  300153.000000\n",
       "mean       12.221021      26.004751   20889.660523\n",
       "std         7.191997      13.561004   22697.767366\n",
       "min         0.830000       1.000000    1105.000000\n",
       "25%         6.830000      15.000000    4783.000000\n",
       "50%        11.250000      26.000000    7425.000000\n",
       "75%        16.170000      38.000000   42521.000000\n",
       "max        49.830000      49.000000  123071.000000"
      ]
     },
     "execution_count": 27,
     "metadata": {},
     "output_type": "execute_result"
    }
   ],
   "source": [
    "data.describe()"
   ]
  },
  {
   "cell_type": "code",
   "execution_count": 28,
   "id": "a69ca4a3-8418-4879-a7d3-1e973b3f0150",
   "metadata": {},
   "outputs": [
    {
     "data": {
      "text/plain": [
       "37738"
      ]
     },
     "execution_count": 28,
     "metadata": {},
     "output_type": "execute_result"
    }
   ],
   "source": [
    "#  IQR price\n",
    "42521-4783"
   ]
  },
  {
   "cell_type": "code",
   "execution_count": 29,
   "id": "a15af0dc-ef64-483b-bb2e-57c27007f894",
   "metadata": {},
   "outputs": [
    {
     "data": {
      "text/plain": [
       "99128.0"
      ]
     },
     "execution_count": 29,
     "metadata": {},
     "output_type": "execute_result"
    }
   ],
   "source": [
    "42521+(1.5*37738)"
   ]
  },
  {
   "cell_type": "code",
   "execution_count": 30,
   "id": "b39e8ad1-5581-425d-91ad-2e6cc4fcf140",
   "metadata": {},
   "outputs": [
    {
     "data": {
      "text/plain": [
       "-51818.0"
      ]
     },
     "execution_count": 30,
     "metadata": {},
     "output_type": "execute_result"
    }
   ],
   "source": [
    "4789-(1.5*37738)"
   ]
  },
  {
   "cell_type": "code",
   "execution_count": 31,
   "id": "1c9e98f5-ca76-49b8-be75-bfbc54ef476e",
   "metadata": {},
   "outputs": [],
   "source": [
    "dff['price'] = np.where(dff['price'] > 99128,\n",
    "                         0,\n",
    "                         dff['price'])"
   ]
  },
  {
   "cell_type": "code",
   "execution_count": 32,
   "id": "7bb85e55-3d5f-407a-8111-5a9229c15583",
   "metadata": {},
   "outputs": [
    {
     "data": {
      "text/plain": [
       "9.340000000000002"
      ]
     },
     "execution_count": 32,
     "metadata": {},
     "output_type": "execute_result"
    }
   ],
   "source": [
    "# iqr duration\n",
    "iqr = dff['duration'].quantile(0.75) - dff['duration'].quantile(0.25)\n",
    "iqr"
   ]
  },
  {
   "cell_type": "code",
   "execution_count": 33,
   "id": "899714b9-bba1-47e0-924b-be7b49abd6a3",
   "metadata": {},
   "outputs": [
    {
     "data": {
      "text/plain": [
       "30.180000000000003"
      ]
     },
     "execution_count": 33,
     "metadata": {},
     "output_type": "execute_result"
    }
   ],
   "source": [
    "16.17+(1.5*iqr)"
   ]
  },
  {
   "cell_type": "code",
   "execution_count": 34,
   "id": "7906abfe-7d51-4d28-bd42-2f5427ac9aa5",
   "metadata": {},
   "outputs": [
    {
     "data": {
      "text/plain": [
       "-7.1800000000000015"
      ]
     },
     "execution_count": 34,
     "metadata": {},
     "output_type": "execute_result"
    }
   ],
   "source": [
    "6.83-(1.5*iqr)"
   ]
  },
  {
   "cell_type": "code",
   "execution_count": 35,
   "id": "451ec543-b375-468c-ad91-19a45a3b5f55",
   "metadata": {},
   "outputs": [],
   "source": [
    "dff['duration'] = np.where(dff['duration'] > 30,\n",
    "                         0,\n",
    "                         dff['duration'])"
   ]
  },
  {
   "cell_type": "code",
   "execution_count": 36,
   "id": "ba0ec493-2938-4624-9cb0-c1d8eea3882c",
   "metadata": {},
   "outputs": [
    {
     "name": "stdout",
     "output_type": "stream",
     "text": [
      "<class 'pandas.core.frame.DataFrame'>\n",
      "RangeIndex: 300153 entries, 0 to 300152\n",
      "Data columns (total 12 columns):\n",
      " #   Column            Non-Null Count   Dtype  \n",
      "---  ------            --------------   -----  \n",
      " 0   Unnamed: 0        300153 non-null  int64  \n",
      " 1   airline           300153 non-null  object \n",
      " 2   flight            300153 non-null  object \n",
      " 3   source_city       300153 non-null  object \n",
      " 4   departure_time    300153 non-null  object \n",
      " 5   stops             300153 non-null  object \n",
      " 6   arrival_time      300153 non-null  object \n",
      " 7   destination_city  300153 non-null  object \n",
      " 8   class             300153 non-null  object \n",
      " 9   duration          300153 non-null  float64\n",
      " 10  days_left         300153 non-null  int64  \n",
      " 11  price             300153 non-null  int64  \n",
      "dtypes: float64(1), int64(3), object(8)\n",
      "memory usage: 27.5+ MB\n"
     ]
    }
   ],
   "source": [
    "dff.info()"
   ]
  },
  {
   "cell_type": "code",
   "execution_count": 37,
   "id": "ce919c17-73bd-400e-bcf3-7f17dda9c410",
   "metadata": {},
   "outputs": [],
   "source": [
    "dff['price'] = dff['price'].replace(0,np.nan)\n"
   ]
  },
  {
   "cell_type": "code",
   "execution_count": 38,
   "id": "476b4012-6714-4a09-a5ba-24ddd01479b5",
   "metadata": {},
   "outputs": [],
   "source": [
    "dff['duration'] = dff['duration'].replace(0,np.nan)"
   ]
  },
  {
   "cell_type": "code",
   "execution_count": 39,
   "id": "d77976ab-5491-4ccb-8145-a19b9f97263a",
   "metadata": {},
   "outputs": [
    {
     "name": "stdout",
     "output_type": "stream",
     "text": [
      "<class 'pandas.core.frame.DataFrame'>\n",
      "RangeIndex: 300153 entries, 0 to 300152\n",
      "Data columns (total 12 columns):\n",
      " #   Column            Non-Null Count   Dtype  \n",
      "---  ------            --------------   -----  \n",
      " 0   Unnamed: 0        300153 non-null  int64  \n",
      " 1   airline           300153 non-null  object \n",
      " 2   flight            300153 non-null  object \n",
      " 3   source_city       300153 non-null  object \n",
      " 4   departure_time    300153 non-null  object \n",
      " 5   stops             300153 non-null  object \n",
      " 6   arrival_time      300153 non-null  object \n",
      " 7   destination_city  300153 non-null  object \n",
      " 8   class             300153 non-null  object \n",
      " 9   duration          297927 non-null  float64\n",
      " 10  days_left         300153 non-null  int64  \n",
      " 11  price             300030 non-null  float64\n",
      "dtypes: float64(2), int64(2), object(8)\n",
      "memory usage: 27.5+ MB\n"
     ]
    }
   ],
   "source": [
    "dff.info()"
   ]
  },
  {
   "cell_type": "code",
   "execution_count": 40,
   "id": "c512bbd3-430d-4ab2-b61c-22817f7cbcf6",
   "metadata": {},
   "outputs": [],
   "source": [
    "from sklearn.impute import KNNImputer\n",
    "impute = KNNImputer(n_neighbors=5)"
   ]
  },
  {
   "cell_type": "code",
   "execution_count": 41,
   "id": "d582619e-13a4-4c14-8c7e-d1d7d533b11d",
   "metadata": {},
   "outputs": [],
   "source": [
    "ff = impute.fit_transform(dff[['duration','days_left','price']])"
   ]
  },
  {
   "cell_type": "code",
   "execution_count": 42,
   "id": "236fe806-d98f-4023-9b2c-6d6b8a847578",
   "metadata": {},
   "outputs": [],
   "source": [
    "filled = pd.DataFrame(ff,columns=['durations','days_lefts','prices'])"
   ]
  },
  {
   "cell_type": "code",
   "execution_count": 43,
   "id": "43d0dfcc-63ab-4f81-aa0a-5e4e2862a187",
   "metadata": {
    "scrolled": true
   },
   "outputs": [
    {
     "name": "stdout",
     "output_type": "stream",
     "text": [
      "<class 'pandas.core.frame.DataFrame'>\n",
      "RangeIndex: 300153 entries, 0 to 300152\n",
      "Data columns (total 3 columns):\n",
      " #   Column      Non-Null Count   Dtype  \n",
      "---  ------      --------------   -----  \n",
      " 0   durations   300153 non-null  float64\n",
      " 1   days_lefts  300153 non-null  float64\n",
      " 2   prices      300153 non-null  float64\n",
      "dtypes: float64(3)\n",
      "memory usage: 6.9 MB\n"
     ]
    }
   ],
   "source": [
    "filled.info()"
   ]
  },
  {
   "cell_type": "code",
   "execution_count": 44,
   "id": "498d0525-4b14-4f9c-b07c-bca702bb2039",
   "metadata": {},
   "outputs": [],
   "source": [
    "dataf = pd.concat([dff,filled],axis=1)"
   ]
  },
  {
   "cell_type": "code",
   "execution_count": 45,
   "id": "81aa82d3-a5df-47af-8e37-b1f82ad8280b",
   "metadata": {},
   "outputs": [
    {
     "data": {
      "text/html": [
       "<div>\n",
       "<style scoped>\n",
       "    .dataframe tbody tr th:only-of-type {\n",
       "        vertical-align: middle;\n",
       "    }\n",
       "\n",
       "    .dataframe tbody tr th {\n",
       "        vertical-align: top;\n",
       "    }\n",
       "\n",
       "    .dataframe thead th {\n",
       "        text-align: right;\n",
       "    }\n",
       "</style>\n",
       "<table border=\"1\" class=\"dataframe\">\n",
       "  <thead>\n",
       "    <tr style=\"text-align: right;\">\n",
       "      <th></th>\n",
       "      <th>Unnamed: 0</th>\n",
       "      <th>airline</th>\n",
       "      <th>flight</th>\n",
       "      <th>source_city</th>\n",
       "      <th>departure_time</th>\n",
       "      <th>stops</th>\n",
       "      <th>arrival_time</th>\n",
       "      <th>destination_city</th>\n",
       "      <th>class</th>\n",
       "      <th>duration</th>\n",
       "      <th>days_left</th>\n",
       "      <th>price</th>\n",
       "      <th>durations</th>\n",
       "      <th>days_lefts</th>\n",
       "      <th>prices</th>\n",
       "    </tr>\n",
       "  </thead>\n",
       "  <tbody>\n",
       "    <tr>\n",
       "      <th>0</th>\n",
       "      <td>0</td>\n",
       "      <td>SpiceJet</td>\n",
       "      <td>SG-8709</td>\n",
       "      <td>Delhi</td>\n",
       "      <td>Evening</td>\n",
       "      <td>zero</td>\n",
       "      <td>Night</td>\n",
       "      <td>Mumbai</td>\n",
       "      <td>Economy</td>\n",
       "      <td>2.17</td>\n",
       "      <td>1</td>\n",
       "      <td>5953.0</td>\n",
       "      <td>2.17</td>\n",
       "      <td>1.0</td>\n",
       "      <td>5953.0</td>\n",
       "    </tr>\n",
       "    <tr>\n",
       "      <th>1</th>\n",
       "      <td>1</td>\n",
       "      <td>SpiceJet</td>\n",
       "      <td>SG-8157</td>\n",
       "      <td>Delhi</td>\n",
       "      <td>Early_Morning</td>\n",
       "      <td>zero</td>\n",
       "      <td>Morning</td>\n",
       "      <td>Mumbai</td>\n",
       "      <td>Economy</td>\n",
       "      <td>2.33</td>\n",
       "      <td>1</td>\n",
       "      <td>5953.0</td>\n",
       "      <td>2.33</td>\n",
       "      <td>1.0</td>\n",
       "      <td>5953.0</td>\n",
       "    </tr>\n",
       "    <tr>\n",
       "      <th>2</th>\n",
       "      <td>2</td>\n",
       "      <td>AirAsia</td>\n",
       "      <td>I5-764</td>\n",
       "      <td>Delhi</td>\n",
       "      <td>Early_Morning</td>\n",
       "      <td>zero</td>\n",
       "      <td>Early_Morning</td>\n",
       "      <td>Mumbai</td>\n",
       "      <td>Economy</td>\n",
       "      <td>2.17</td>\n",
       "      <td>1</td>\n",
       "      <td>5956.0</td>\n",
       "      <td>2.17</td>\n",
       "      <td>1.0</td>\n",
       "      <td>5956.0</td>\n",
       "    </tr>\n",
       "    <tr>\n",
       "      <th>3</th>\n",
       "      <td>3</td>\n",
       "      <td>Vistara</td>\n",
       "      <td>UK-995</td>\n",
       "      <td>Delhi</td>\n",
       "      <td>Morning</td>\n",
       "      <td>zero</td>\n",
       "      <td>Afternoon</td>\n",
       "      <td>Mumbai</td>\n",
       "      <td>Economy</td>\n",
       "      <td>2.25</td>\n",
       "      <td>1</td>\n",
       "      <td>5955.0</td>\n",
       "      <td>2.25</td>\n",
       "      <td>1.0</td>\n",
       "      <td>5955.0</td>\n",
       "    </tr>\n",
       "    <tr>\n",
       "      <th>4</th>\n",
       "      <td>4</td>\n",
       "      <td>Vistara</td>\n",
       "      <td>UK-963</td>\n",
       "      <td>Delhi</td>\n",
       "      <td>Morning</td>\n",
       "      <td>zero</td>\n",
       "      <td>Morning</td>\n",
       "      <td>Mumbai</td>\n",
       "      <td>Economy</td>\n",
       "      <td>2.33</td>\n",
       "      <td>1</td>\n",
       "      <td>5955.0</td>\n",
       "      <td>2.33</td>\n",
       "      <td>1.0</td>\n",
       "      <td>5955.0</td>\n",
       "    </tr>\n",
       "  </tbody>\n",
       "</table>\n",
       "</div>"
      ],
      "text/plain": [
       "   Unnamed: 0   airline   flight source_city departure_time stops  \\\n",
       "0           0  SpiceJet  SG-8709       Delhi        Evening  zero   \n",
       "1           1  SpiceJet  SG-8157       Delhi  Early_Morning  zero   \n",
       "2           2   AirAsia   I5-764       Delhi  Early_Morning  zero   \n",
       "3           3   Vistara   UK-995       Delhi        Morning  zero   \n",
       "4           4   Vistara   UK-963       Delhi        Morning  zero   \n",
       "\n",
       "    arrival_time destination_city    class  duration  days_left   price  \\\n",
       "0          Night           Mumbai  Economy      2.17          1  5953.0   \n",
       "1        Morning           Mumbai  Economy      2.33          1  5953.0   \n",
       "2  Early_Morning           Mumbai  Economy      2.17          1  5956.0   \n",
       "3      Afternoon           Mumbai  Economy      2.25          1  5955.0   \n",
       "4        Morning           Mumbai  Economy      2.33          1  5955.0   \n",
       "\n",
       "   durations  days_lefts  prices  \n",
       "0       2.17         1.0  5953.0  \n",
       "1       2.33         1.0  5953.0  \n",
       "2       2.17         1.0  5956.0  \n",
       "3       2.25         1.0  5955.0  \n",
       "4       2.33         1.0  5955.0  "
      ]
     },
     "execution_count": 45,
     "metadata": {},
     "output_type": "execute_result"
    }
   ],
   "source": [
    "dataf.head()"
   ]
  },
  {
   "cell_type": "code",
   "execution_count": 46,
   "id": "ad27c3e6-57be-4bd4-b63a-ef145fe102d9",
   "metadata": {},
   "outputs": [],
   "source": [
    "dataf = dataf.drop(columns=['Unnamed: 0','duration','days_left','price'])"
   ]
  },
  {
   "cell_type": "code",
   "execution_count": 47,
   "id": "9b4bbeea-3ea6-4f2e-8b0d-8e89bccc1ff6",
   "metadata": {},
   "outputs": [
    {
     "data": {
      "text/html": [
       "<div>\n",
       "<style scoped>\n",
       "    .dataframe tbody tr th:only-of-type {\n",
       "        vertical-align: middle;\n",
       "    }\n",
       "\n",
       "    .dataframe tbody tr th {\n",
       "        vertical-align: top;\n",
       "    }\n",
       "\n",
       "    .dataframe thead th {\n",
       "        text-align: right;\n",
       "    }\n",
       "</style>\n",
       "<table border=\"1\" class=\"dataframe\">\n",
       "  <thead>\n",
       "    <tr style=\"text-align: right;\">\n",
       "      <th></th>\n",
       "      <th>airline</th>\n",
       "      <th>flight</th>\n",
       "      <th>source_city</th>\n",
       "      <th>departure_time</th>\n",
       "      <th>stops</th>\n",
       "      <th>arrival_time</th>\n",
       "      <th>destination_city</th>\n",
       "      <th>class</th>\n",
       "      <th>durations</th>\n",
       "      <th>days_lefts</th>\n",
       "      <th>prices</th>\n",
       "    </tr>\n",
       "  </thead>\n",
       "  <tbody>\n",
       "    <tr>\n",
       "      <th>0</th>\n",
       "      <td>SpiceJet</td>\n",
       "      <td>SG-8709</td>\n",
       "      <td>Delhi</td>\n",
       "      <td>Evening</td>\n",
       "      <td>zero</td>\n",
       "      <td>Night</td>\n",
       "      <td>Mumbai</td>\n",
       "      <td>Economy</td>\n",
       "      <td>2.17</td>\n",
       "      <td>1.0</td>\n",
       "      <td>5953.0</td>\n",
       "    </tr>\n",
       "    <tr>\n",
       "      <th>1</th>\n",
       "      <td>SpiceJet</td>\n",
       "      <td>SG-8157</td>\n",
       "      <td>Delhi</td>\n",
       "      <td>Early_Morning</td>\n",
       "      <td>zero</td>\n",
       "      <td>Morning</td>\n",
       "      <td>Mumbai</td>\n",
       "      <td>Economy</td>\n",
       "      <td>2.33</td>\n",
       "      <td>1.0</td>\n",
       "      <td>5953.0</td>\n",
       "    </tr>\n",
       "    <tr>\n",
       "      <th>2</th>\n",
       "      <td>AirAsia</td>\n",
       "      <td>I5-764</td>\n",
       "      <td>Delhi</td>\n",
       "      <td>Early_Morning</td>\n",
       "      <td>zero</td>\n",
       "      <td>Early_Morning</td>\n",
       "      <td>Mumbai</td>\n",
       "      <td>Economy</td>\n",
       "      <td>2.17</td>\n",
       "      <td>1.0</td>\n",
       "      <td>5956.0</td>\n",
       "    </tr>\n",
       "    <tr>\n",
       "      <th>3</th>\n",
       "      <td>Vistara</td>\n",
       "      <td>UK-995</td>\n",
       "      <td>Delhi</td>\n",
       "      <td>Morning</td>\n",
       "      <td>zero</td>\n",
       "      <td>Afternoon</td>\n",
       "      <td>Mumbai</td>\n",
       "      <td>Economy</td>\n",
       "      <td>2.25</td>\n",
       "      <td>1.0</td>\n",
       "      <td>5955.0</td>\n",
       "    </tr>\n",
       "    <tr>\n",
       "      <th>4</th>\n",
       "      <td>Vistara</td>\n",
       "      <td>UK-963</td>\n",
       "      <td>Delhi</td>\n",
       "      <td>Morning</td>\n",
       "      <td>zero</td>\n",
       "      <td>Morning</td>\n",
       "      <td>Mumbai</td>\n",
       "      <td>Economy</td>\n",
       "      <td>2.33</td>\n",
       "      <td>1.0</td>\n",
       "      <td>5955.0</td>\n",
       "    </tr>\n",
       "  </tbody>\n",
       "</table>\n",
       "</div>"
      ],
      "text/plain": [
       "    airline   flight source_city departure_time stops   arrival_time  \\\n",
       "0  SpiceJet  SG-8709       Delhi        Evening  zero          Night   \n",
       "1  SpiceJet  SG-8157       Delhi  Early_Morning  zero        Morning   \n",
       "2   AirAsia   I5-764       Delhi  Early_Morning  zero  Early_Morning   \n",
       "3   Vistara   UK-995       Delhi        Morning  zero      Afternoon   \n",
       "4   Vistara   UK-963       Delhi        Morning  zero        Morning   \n",
       "\n",
       "  destination_city    class  durations  days_lefts  prices  \n",
       "0           Mumbai  Economy       2.17         1.0  5953.0  \n",
       "1           Mumbai  Economy       2.33         1.0  5953.0  \n",
       "2           Mumbai  Economy       2.17         1.0  5956.0  \n",
       "3           Mumbai  Economy       2.25         1.0  5955.0  \n",
       "4           Mumbai  Economy       2.33         1.0  5955.0  "
      ]
     },
     "execution_count": 47,
     "metadata": {},
     "output_type": "execute_result"
    }
   ],
   "source": [
    "dataf.head()"
   ]
  },
  {
   "cell_type": "code",
   "execution_count": 48,
   "id": "04afacd6-5af6-4d2d-a7ea-5a788ab160dc",
   "metadata": {},
   "outputs": [
    {
     "name": "stderr",
     "output_type": "stream",
     "text": [
      "C:\\Users\\91777\\anaconda3\\lib\\site-packages\\seaborn\\_decorators.py:36: FutureWarning: Pass the following variable as a keyword arg: x. From version 0.12, the only valid positional argument will be `data`, and passing other arguments without an explicit keyword will result in an error or misinterpretation.\n",
      "  warnings.warn(\n"
     ]
    },
    {
     "data": {
      "text/plain": [
       "<AxesSubplot:xlabel='durations'>"
      ]
     },
     "execution_count": 48,
     "metadata": {},
     "output_type": "execute_result"
    },
    {
     "data": {
      "image/png": "[encoded data removed]",
      "text/plain": [
       "<Figure size 432x288 with 1 Axes>"
      ]
     },
     "metadata": {
      "needs_background": "light"
     },
     "output_type": "display_data"
    }
   ],
   "source": [
    "sns.boxplot(dataf['durations'])"
   ]
  },
  {
   "cell_type": "code",
   "execution_count": 49,
   "id": "44b8c9fe-fe13-4edf-9148-cbf7e80eb83b",
   "metadata": {},
   "outputs": [
    {
     "name": "stderr",
     "output_type": "stream",
     "text": [
      "C:\\Users\\91777\\anaconda3\\lib\\site-packages\\seaborn\\_decorators.py:36: FutureWarning: Pass the following variable as a keyword arg: x. From version 0.12, the only valid positional argument will be `data`, and passing other arguments without an explicit keyword will result in an error or misinterpretation.\n",
      "  warnings.warn(\n"
     ]
    },
    {
     "data": {
      "text/plain": [
       "<AxesSubplot:xlabel='prices'>"
      ]
     },
     "execution_count": 49,
     "metadata": {},
     "output_type": "execute_result"
    },
    {
     "data": {
      "image/png": "[encoded data removed]",
      "text/plain": [
       "<Figure size 432x288 with 1 Axes>"
      ]
     },
     "metadata": {
      "needs_background": "light"
     },
     "output_type": "display_data"
    }
   ],
   "source": [
    "sns.boxplot(dataf['prices'])"
   ]
  },
  {
   "cell_type": "code",
   "execution_count": 50,
   "id": "3a907aae-f4ec-4f64-9daa-7c7c8b6ef19f",
   "metadata": {},
   "outputs": [],
   "source": [
    "# from sklearn.preprocessing import FunctionTransformer"
   ]
  },
  {
   "cell_type": "code",
   "execution_count": 51,
   "id": "511df7b8-8d8d-452c-a812-f83f44939412",
   "metadata": {},
   "outputs": [],
   "source": [
    "# sns.kdeplot(data['price'].map(lambda X :1/X))"
   ]
  },
  {
   "cell_type": "code",
   "execution_count": 52,
   "id": "0202c865-cb44-45bb-b9c2-7fc95c6c1a25",
   "metadata": {},
   "outputs": [],
   "source": [
    "# from sklearn.preprocessing import PowerTransformer"
   ]
  },
  {
   "cell_type": "code",
   "execution_count": 53,
   "id": "e397e3b5-10ed-4ea6-98c2-01ae3031c9d0",
   "metadata": {},
   "outputs": [],
   "source": [
    "# sns.kdeplot(data['price'].map(PowerTransformer())"
   ]
  },
  {
   "cell_type": "code",
   "execution_count": 54,
   "id": "37c06cad-fb1b-49b8-8352-6a13fae71171",
   "metadata": {},
   "outputs": [],
   "source": [
    "from sklearn.model_selection import train_test_split"
   ]
  },
  {
   "cell_type": "code",
   "execution_count": 55,
   "id": "f96199a9-372c-417a-b4df-3eb5c8a2b2ad",
   "metadata": {},
   "outputs": [],
   "source": [
    "X = data.drop(columns='price')\n",
    "y = data['price'].values.reshape(-1,1)"
   ]
  },
  {
   "cell_type": "code",
   "execution_count": 56,
   "id": "4e3d1158-80c7-4965-98fd-fdda18518b88",
   "metadata": {},
   "outputs": [
    {
     "name": "stdout",
     "output_type": "stream",
     "text": [
      "<class 'pandas.core.frame.DataFrame'>\n",
      "RangeIndex: 300153 entries, 0 to 300152\n",
      "Data columns (total 11 columns):\n",
      " #   Column            Non-Null Count   Dtype  \n",
      "---  ------            --------------   -----  \n",
      " 0   airline           300153 non-null  object \n",
      " 1   flight            300153 non-null  object \n",
      " 2   source_city       300153 non-null  object \n",
      " 3   departure_time    300153 non-null  object \n",
      " 4   stops             300153 non-null  object \n",
      " 5   arrival_time      300153 non-null  object \n",
      " 6   destination_city  300153 non-null  object \n",
      " 7   class             300153 non-null  object \n",
      " 8   duration          300153 non-null  float64\n",
      " 9   days_left         300153 non-null  int64  \n",
      " 10  price             300153 non-null  int64  \n",
      "dtypes: float64(1), int64(2), object(8)\n",
      "memory usage: 25.2+ MB\n"
     ]
    }
   ],
   "source": [
    "data.info()"
   ]
  },
  {
   "cell_type": "code",
   "execution_count": 57,
   "id": "7b6cabf4-ed81-4755-99e0-b8ef455d4b33",
   "metadata": {},
   "outputs": [
    {
     "data": {
      "text/html": [
       "<div>\n",
       "<style scoped>\n",
       "    .dataframe tbody tr th:only-of-type {\n",
       "        vertical-align: middle;\n",
       "    }\n",
       "\n",
       "    .dataframe tbody tr th {\n",
       "        vertical-align: top;\n",
       "    }\n",
       "\n",
       "    .dataframe thead th {\n",
       "        text-align: right;\n",
       "    }\n",
       "</style>\n",
       "<table border=\"1\" class=\"dataframe\">\n",
       "  <thead>\n",
       "    <tr style=\"text-align: right;\">\n",
       "      <th></th>\n",
       "      <th>airline</th>\n",
       "      <th>flight</th>\n",
       "      <th>source_city</th>\n",
       "      <th>departure_time</th>\n",
       "      <th>stops</th>\n",
       "      <th>arrival_time</th>\n",
       "      <th>destination_city</th>\n",
       "      <th>class</th>\n",
       "      <th>duration</th>\n",
       "      <th>days_left</th>\n",
       "    </tr>\n",
       "  </thead>\n",
       "  <tbody>\n",
       "    <tr>\n",
       "      <th>0</th>\n",
       "      <td>SpiceJet</td>\n",
       "      <td>others</td>\n",
       "      <td>Delhi</td>\n",
       "      <td>Evening</td>\n",
       "      <td>zero</td>\n",
       "      <td>Night</td>\n",
       "      <td>Mumbai</td>\n",
       "      <td>Economy</td>\n",
       "      <td>2.17</td>\n",
       "      <td>1</td>\n",
       "    </tr>\n",
       "    <tr>\n",
       "      <th>1</th>\n",
       "      <td>SpiceJet</td>\n",
       "      <td>others</td>\n",
       "      <td>Delhi</td>\n",
       "      <td>Early_Morning</td>\n",
       "      <td>zero</td>\n",
       "      <td>Morning</td>\n",
       "      <td>Mumbai</td>\n",
       "      <td>Economy</td>\n",
       "      <td>2.33</td>\n",
       "      <td>1</td>\n",
       "    </tr>\n",
       "    <tr>\n",
       "      <th>2</th>\n",
       "      <td>AirAsia</td>\n",
       "      <td>others</td>\n",
       "      <td>Delhi</td>\n",
       "      <td>Early_Morning</td>\n",
       "      <td>zero</td>\n",
       "      <td>Early_Morning</td>\n",
       "      <td>Mumbai</td>\n",
       "      <td>Economy</td>\n",
       "      <td>2.17</td>\n",
       "      <td>1</td>\n",
       "    </tr>\n",
       "    <tr>\n",
       "      <th>3</th>\n",
       "      <td>Vistara</td>\n",
       "      <td>UK-995</td>\n",
       "      <td>Delhi</td>\n",
       "      <td>Morning</td>\n",
       "      <td>zero</td>\n",
       "      <td>Afternoon</td>\n",
       "      <td>Mumbai</td>\n",
       "      <td>Economy</td>\n",
       "      <td>2.25</td>\n",
       "      <td>1</td>\n",
       "    </tr>\n",
       "    <tr>\n",
       "      <th>4</th>\n",
       "      <td>Vistara</td>\n",
       "      <td>UK-963</td>\n",
       "      <td>Delhi</td>\n",
       "      <td>Morning</td>\n",
       "      <td>zero</td>\n",
       "      <td>Morning</td>\n",
       "      <td>Mumbai</td>\n",
       "      <td>Economy</td>\n",
       "      <td>2.33</td>\n",
       "      <td>1</td>\n",
       "    </tr>\n",
       "  </tbody>\n",
       "</table>\n",
       "</div>"
      ],
      "text/plain": [
       "    airline  flight source_city departure_time stops   arrival_time  \\\n",
       "0  SpiceJet  others       Delhi        Evening  zero          Night   \n",
       "1  SpiceJet  others       Delhi  Early_Morning  zero        Morning   \n",
       "2   AirAsia  others       Delhi  Early_Morning  zero  Early_Morning   \n",
       "3   Vistara  UK-995       Delhi        Morning  zero      Afternoon   \n",
       "4   Vistara  UK-963       Delhi        Morning  zero        Morning   \n",
       "\n",
       "  destination_city    class  duration  days_left  \n",
       "0           Mumbai  Economy      2.17          1  \n",
       "1           Mumbai  Economy      2.33          1  \n",
       "2           Mumbai  Economy      2.17          1  \n",
       "3           Mumbai  Economy      2.25          1  \n",
       "4           Mumbai  Economy      2.33          1  "
      ]
     },
     "execution_count": 57,
     "metadata": {},
     "output_type": "execute_result"
    }
   ],
   "source": [
    "X.head()"
   ]
  },
  {
   "cell_type": "code",
   "execution_count": 58,
   "id": "87d96bca-3aac-4cb3-931f-a5b2fc188648",
   "metadata": {},
   "outputs": [],
   "source": [
    "X_train, X_test, y_train, y_test = train_test_split(X,y,test_size=0.2,random_state=0)"
   ]
  },
  {
   "cell_type": "code",
   "execution_count": 59,
   "id": "fce65b8e-cc75-4fd1-a898-2df6bf3d2811",
   "metadata": {},
   "outputs": [],
   "source": [
    "from sklearn.preprocessing import OneHotEncoder\n",
    "from sklearn.model_selection import train_test_split\n",
    "from sklearn.compose import ColumnTransformer\n",
    "from sklearn.pipeline import Pipeline,make_pipeline\n",
    "from sklearn.preprocessing import StandardScaler\n",
    "from sklearn.linear_model import LinearRegression\n",
    "from sklearn.model_selection import KFold\n",
    "from sklearn.model_selection import cross_val_score\n",
    "from sklearn.model_selection import StratifiedKFold\n",
    "from sklearn.metrics import r2_score\n",
    "from sklearn.linear_model import Ridge\n",
    "from sklearn.preprocessing import OrdinalEncoder\n",
    "from sklearn.model_selection import train_test_split\n",
    "from sklearn.compose import ColumnTransformer\n",
    "from sklearn.pipeline import Pipeline,make_pipeline\n",
    "from sklearn.impute import KNNImputer"
   ]
  },
  {
   "cell_type": "code",
   "execution_count": 60,
   "id": "71981f06-7142-4e44-adae-1ad2f1af4b4d",
   "metadata": {},
   "outputs": [
    {
     "data": {
      "text/plain": [
       "OneHotEncoder()"
      ]
     },
     "execution_count": 60,
     "metadata": {},
     "output_type": "execute_result"
    }
   ],
   "source": [
    "cols_ohe = ['airline','flight','source_city','destination_city']\n",
    "ohe = OneHotEncoder()\n",
    "ohe.fit(X[cols_ohe])"
   ]
  },
  {
   "cell_type": "code",
   "execution_count": 61,
   "id": "e5de2d60-e03e-473b-bc10-45da8046e711",
   "metadata": {},
   "outputs": [],
   "source": [
    "ord_cols = ['departure_time','stops','class','arrival_time']\n",
    "ord = OrdinalEncoder(categories = [['Late_Night','Afternoon','Night','Evening','Early_Morning','Morning'],\n",
    "                                   ['two_or_more','one','zero'],\n",
    "                                   ['Economy','Business'],\n",
    "                                   ['Late_Night','Afternoon','Night','Evening','Early_Morning','Morning']])"
   ]
  },
  {
   "cell_type": "code",
   "execution_count": 62,
   "id": "b32f4b4d-5a43-4cc5-8dfb-147102bf1d59",
   "metadata": {},
   "outputs": [
    {
     "data": {
      "text/plain": [
       "OrdinalEncoder(categories=[['Late_Night', 'Afternoon', 'Night', 'Evening',\n",
       "                            'Early_Morning', 'Morning'],\n",
       "                           ['two_or_more', 'one', 'zero'],\n",
       "                           ['Economy', 'Business'],\n",
       "                           ['Late_Night', 'Afternoon', 'Night', 'Evening',\n",
       "                            'Early_Morning', 'Morning']])"
      ]
     },
     "execution_count": 62,
     "metadata": {},
     "output_type": "execute_result"
    }
   ],
   "source": [
    "ord.fit(X_train[ord_cols])"
   ]
  },
  {
   "cell_type": "code",
   "execution_count": 63,
   "id": "0f209841-d289-4ad1-8690-c4d2040f20d7",
   "metadata": {},
   "outputs": [
    {
     "data": {
      "text/plain": [
       "[array(['Late_Night', 'Afternoon', 'Night', 'Evening', 'Early_Morning',\n",
       "        'Morning'], dtype=object),\n",
       " array(['two_or_more', 'one', 'zero'], dtype=object),\n",
       " array(['Economy', 'Business'], dtype=object),\n",
       " array(['Late_Night', 'Afternoon', 'Night', 'Evening', 'Early_Morning',\n",
       "        'Morning'], dtype=object)]"
      ]
     },
     "execution_count": 63,
     "metadata": {},
     "output_type": "execute_result"
    }
   ],
   "source": [
    "ord.categories_"
   ]
  },
  {
   "cell_type": "code",
   "execution_count": 64,
   "id": "55162cd9-84d6-4842-a505-e6ed9b41f69e",
   "metadata": {},
   "outputs": [
    {
     "data": {
      "text/html": [
       "<div>\n",
       "<style scoped>\n",
       "    .dataframe tbody tr th:only-of-type {\n",
       "        vertical-align: middle;\n",
       "    }\n",
       "\n",
       "    .dataframe tbody tr th {\n",
       "        vertical-align: top;\n",
       "    }\n",
       "\n",
       "    .dataframe thead th {\n",
       "        text-align: right;\n",
       "    }\n",
       "</style>\n",
       "<table border=\"1\" class=\"dataframe\">\n",
       "  <thead>\n",
       "    <tr style=\"text-align: right;\">\n",
       "      <th></th>\n",
       "      <th>airline</th>\n",
       "      <th>flight</th>\n",
       "      <th>source_city</th>\n",
       "      <th>departure_time</th>\n",
       "      <th>stops</th>\n",
       "      <th>arrival_time</th>\n",
       "      <th>destination_city</th>\n",
       "      <th>class</th>\n",
       "      <th>duration</th>\n",
       "      <th>days_left</th>\n",
       "      <th>price</th>\n",
       "    </tr>\n",
       "  </thead>\n",
       "  <tbody>\n",
       "    <tr>\n",
       "      <th>0</th>\n",
       "      <td>SpiceJet</td>\n",
       "      <td>others</td>\n",
       "      <td>Delhi</td>\n",
       "      <td>Evening</td>\n",
       "      <td>zero</td>\n",
       "      <td>Night</td>\n",
       "      <td>Mumbai</td>\n",
       "      <td>Economy</td>\n",
       "      <td>2.17</td>\n",
       "      <td>1</td>\n",
       "      <td>5953</td>\n",
       "    </tr>\n",
       "    <tr>\n",
       "      <th>1</th>\n",
       "      <td>SpiceJet</td>\n",
       "      <td>others</td>\n",
       "      <td>Delhi</td>\n",
       "      <td>Early_Morning</td>\n",
       "      <td>zero</td>\n",
       "      <td>Morning</td>\n",
       "      <td>Mumbai</td>\n",
       "      <td>Economy</td>\n",
       "      <td>2.33</td>\n",
       "      <td>1</td>\n",
       "      <td>5953</td>\n",
       "    </tr>\n",
       "    <tr>\n",
       "      <th>2</th>\n",
       "      <td>AirAsia</td>\n",
       "      <td>others</td>\n",
       "      <td>Delhi</td>\n",
       "      <td>Early_Morning</td>\n",
       "      <td>zero</td>\n",
       "      <td>Early_Morning</td>\n",
       "      <td>Mumbai</td>\n",
       "      <td>Economy</td>\n",
       "      <td>2.17</td>\n",
       "      <td>1</td>\n",
       "      <td>5956</td>\n",
       "    </tr>\n",
       "    <tr>\n",
       "      <th>3</th>\n",
       "      <td>Vistara</td>\n",
       "      <td>UK-995</td>\n",
       "      <td>Delhi</td>\n",
       "      <td>Morning</td>\n",
       "      <td>zero</td>\n",
       "      <td>Afternoon</td>\n",
       "      <td>Mumbai</td>\n",
       "      <td>Economy</td>\n",
       "      <td>2.25</td>\n",
       "      <td>1</td>\n",
       "      <td>5955</td>\n",
       "    </tr>\n",
       "    <tr>\n",
       "      <th>4</th>\n",
       "      <td>Vistara</td>\n",
       "      <td>UK-963</td>\n",
       "      <td>Delhi</td>\n",
       "      <td>Morning</td>\n",
       "      <td>zero</td>\n",
       "      <td>Morning</td>\n",
       "      <td>Mumbai</td>\n",
       "      <td>Economy</td>\n",
       "      <td>2.33</td>\n",
       "      <td>1</td>\n",
       "      <td>5955</td>\n",
       "    </tr>\n",
       "  </tbody>\n",
       "</table>\n",
       "</div>"
      ],
      "text/plain": [
       "    airline  flight source_city departure_time stops   arrival_time  \\\n",
       "0  SpiceJet  others       Delhi        Evening  zero          Night   \n",
       "1  SpiceJet  others       Delhi  Early_Morning  zero        Morning   \n",
       "2   AirAsia  others       Delhi  Early_Morning  zero  Early_Morning   \n",
       "3   Vistara  UK-995       Delhi        Morning  zero      Afternoon   \n",
       "4   Vistara  UK-963       Delhi        Morning  zero        Morning   \n",
       "\n",
       "  destination_city    class  duration  days_left  price  \n",
       "0           Mumbai  Economy      2.17          1   5953  \n",
       "1           Mumbai  Economy      2.33          1   5953  \n",
       "2           Mumbai  Economy      2.17          1   5956  \n",
       "3           Mumbai  Economy      2.25          1   5955  \n",
       "4           Mumbai  Economy      2.33          1   5955  "
      ]
     },
     "execution_count": 64,
     "metadata": {},
     "output_type": "execute_result"
    }
   ],
   "source": [
    "data.head()"
   ]
  },
  {
   "cell_type": "code",
   "execution_count": 375,
   "id": "c0ddf857-0924-440c-886f-83fdb68029ca",
   "metadata": {},
   "outputs": [],
   "source": [
    "transformer =ColumnTransformer(transformers=[\n",
    "    ('trf1',OneHotEncoder(categories=ohe.categories_,sparse=False,drop='first'),[0,1,2,6]),\n",
    "    ('trf2',OrdinalEncoder(categories=ord.categories_),[3,4,7,5]),\n",
    "    ('scale',StandardScaler(),['duration'])\n",
    "\n",
    "],remainder='passthrough')"
   ]
  },
  {
   "cell_type": "code",
   "execution_count": 376,
   "id": "f8325b02-54c5-4581-a686-acb912cff46f",
   "metadata": {},
   "outputs": [],
   "source": [
    "X_trans_train=transformer.fit_transform(X_train)"
   ]
  },
  {
   "cell_type": "code",
   "execution_count": 377,
   "id": "082ad180-0dba-4316-a4fc-a210a279b16f",
   "metadata": {},
   "outputs": [],
   "source": [
    "X_trans_test=transformer.transform(X_test)"
   ]
  },
  {
   "cell_type": "code",
   "execution_count": 378,
   "id": "c37f6d45-a09b-42b6-9ed3-c9a07d574cd0",
   "metadata": {},
   "outputs": [],
   "source": [
    "lr = LinearRegression()"
   ]
  },
  {
   "cell_type": "code",
   "execution_count": 379,
   "id": "b66e4b37-3d4e-469d-8535-c59a5b30fac9",
   "metadata": {},
   "outputs": [
    {
     "data": {
      "text/plain": [
       "LinearRegression()"
      ]
     },
     "execution_count": 379,
     "metadata": {},
     "output_type": "execute_result"
    }
   ],
   "source": [
    "lr.fit(X_trans_train,y_train)"
   ]
  },
  {
   "cell_type": "code",
   "execution_count": 380,
   "id": "f0b18fde-ccbd-4e0c-9548-74c89e61477b",
   "metadata": {},
   "outputs": [],
   "source": [
    "y_pred=lr.predict(X_trans_test)\n",
    "y_train_pred = lr.predict(X_trans_train)"
   ]
  },
  {
   "cell_type": "code",
   "execution_count": 381,
   "id": "9ae5b3c6-1342-438e-9def-1549d5d409d5",
   "metadata": {},
   "outputs": [
    {
     "data": {
      "text/plain": [
       "array([[ 9363.65653726],\n",
       "       [55468.86759991],\n",
       "       [ 2802.44693327],\n",
       "       ...,\n",
       "       [ 8935.80661773],\n",
       "       [ 5904.81251218],\n",
       "       [ 2666.53715027]])"
      ]
     },
     "execution_count": 381,
     "metadata": {},
     "output_type": "execute_result"
    }
   ],
   "source": [
    "y_pred.reshape(-1,1)"
   ]
  },
  {
   "cell_type": "code",
   "execution_count": 382,
   "id": "2fb9d897-a9b4-424a-a72c-0b156480b791",
   "metadata": {},
   "outputs": [
    {
     "data": {
      "text/plain": [
       "(60031, 1)"
      ]
     },
     "execution_count": 382,
     "metadata": {},
     "output_type": "execute_result"
    }
   ],
   "source": [
    "y_test.shape"
   ]
  },
  {
   "cell_type": "code",
   "execution_count": 383,
   "id": "cbb9837d-9ce3-4ee8-925f-88daad7c32ac",
   "metadata": {},
   "outputs": [
    {
     "data": {
      "text/plain": [
       "(60031, 1)"
      ]
     },
     "execution_count": 383,
     "metadata": {},
     "output_type": "execute_result"
    }
   ],
   "source": [
    "y_pred.shape"
   ]
  },
  {
   "cell_type": "code",
   "execution_count": 384,
   "id": "387a75d5-3d4d-4eb7-988d-baf00785ade6",
   "metadata": {},
   "outputs": [
    {
     "data": {
      "text/plain": [
       "0.9202470202489527"
      ]
     },
     "execution_count": 384,
     "metadata": {},
     "output_type": "execute_result"
    }
   ],
   "source": [
    "r2_score(y_test,y_pred)"
   ]
  },
  {
   "cell_type": "code",
   "execution_count": 385,
   "id": "8b36eb23-8a34-40d9-afdd-7abe8b291780",
   "metadata": {},
   "outputs": [
    {
     "data": {
      "text/plain": [
       "0.9201477779245405"
      ]
     },
     "execution_count": 385,
     "metadata": {},
     "output_type": "execute_result"
    }
   ],
   "source": [
    "r2_score(y_train,y_train_pred)"
   ]
  },
  {
   "cell_type": "code",
   "execution_count": 386,
   "id": "d3e2592a-5cb8-42b1-a080-86b2d1f8289e",
   "metadata": {},
   "outputs": [
    {
     "data": {
      "text/plain": [
       "0.9200023217973049"
      ]
     },
     "execution_count": 386,
     "metadata": {},
     "output_type": "execute_result"
    }
   ],
   "source": [
    "folds = KFold(n_splits=10 , shuffle =True, random_state = 0)\n",
    "scores = cross_val_score(lr,X_trans_train, y_train, scoring='r2', cv=folds).mean()\n",
    "scores"
   ]
  },
  {
   "cell_type": "code",
   "execution_count": null,
   "id": "1ab438b8-ca5c-4957-b60b-c755f341c32f",
   "metadata": {},
   "outputs": [],
   "source": []
  },
  {
   "cell_type": "code",
   "execution_count": 387,
   "id": "f49e2377-3ca5-419d-a12d-4ea8301ab4ae",
   "metadata": {},
   "outputs": [
    {
     "data": {
      "text/html": [
       "<div>\n",
       "<style scoped>\n",
       "    .dataframe tbody tr th:only-of-type {\n",
       "        vertical-align: middle;\n",
       "    }\n",
       "\n",
       "    .dataframe tbody tr th {\n",
       "        vertical-align: top;\n",
       "    }\n",
       "\n",
       "    .dataframe thead th {\n",
       "        text-align: right;\n",
       "    }\n",
       "</style>\n",
       "<table border=\"1\" class=\"dataframe\">\n",
       "  <thead>\n",
       "    <tr style=\"text-align: right;\">\n",
       "      <th></th>\n",
       "      <th>airline</th>\n",
       "      <th>flight</th>\n",
       "      <th>source_city</th>\n",
       "      <th>departure_time</th>\n",
       "      <th>stops</th>\n",
       "      <th>arrival_time</th>\n",
       "      <th>destination_city</th>\n",
       "      <th>class</th>\n",
       "      <th>durations</th>\n",
       "      <th>days_lefts</th>\n",
       "      <th>prices</th>\n",
       "    </tr>\n",
       "  </thead>\n",
       "  <tbody>\n",
       "    <tr>\n",
       "      <th>0</th>\n",
       "      <td>SpiceJet</td>\n",
       "      <td>SG-8709</td>\n",
       "      <td>Delhi</td>\n",
       "      <td>Evening</td>\n",
       "      <td>zero</td>\n",
       "      <td>Night</td>\n",
       "      <td>Mumbai</td>\n",
       "      <td>Economy</td>\n",
       "      <td>2.17</td>\n",
       "      <td>1.0</td>\n",
       "      <td>5953.0</td>\n",
       "    </tr>\n",
       "    <tr>\n",
       "      <th>1</th>\n",
       "      <td>SpiceJet</td>\n",
       "      <td>SG-8157</td>\n",
       "      <td>Delhi</td>\n",
       "      <td>Early_Morning</td>\n",
       "      <td>zero</td>\n",
       "      <td>Morning</td>\n",
       "      <td>Mumbai</td>\n",
       "      <td>Economy</td>\n",
       "      <td>2.33</td>\n",
       "      <td>1.0</td>\n",
       "      <td>5953.0</td>\n",
       "    </tr>\n",
       "    <tr>\n",
       "      <th>2</th>\n",
       "      <td>AirAsia</td>\n",
       "      <td>I5-764</td>\n",
       "      <td>Delhi</td>\n",
       "      <td>Early_Morning</td>\n",
       "      <td>zero</td>\n",
       "      <td>Early_Morning</td>\n",
       "      <td>Mumbai</td>\n",
       "      <td>Economy</td>\n",
       "      <td>2.17</td>\n",
       "      <td>1.0</td>\n",
       "      <td>5956.0</td>\n",
       "    </tr>\n",
       "    <tr>\n",
       "      <th>3</th>\n",
       "      <td>Vistara</td>\n",
       "      <td>UK-995</td>\n",
       "      <td>Delhi</td>\n",
       "      <td>Morning</td>\n",
       "      <td>zero</td>\n",
       "      <td>Afternoon</td>\n",
       "      <td>Mumbai</td>\n",
       "      <td>Economy</td>\n",
       "      <td>2.25</td>\n",
       "      <td>1.0</td>\n",
       "      <td>5955.0</td>\n",
       "    </tr>\n",
       "    <tr>\n",
       "      <th>4</th>\n",
       "      <td>Vistara</td>\n",
       "      <td>UK-963</td>\n",
       "      <td>Delhi</td>\n",
       "      <td>Morning</td>\n",
       "      <td>zero</td>\n",
       "      <td>Morning</td>\n",
       "      <td>Mumbai</td>\n",
       "      <td>Economy</td>\n",
       "      <td>2.33</td>\n",
       "      <td>1.0</td>\n",
       "      <td>5955.0</td>\n",
       "    </tr>\n",
       "  </tbody>\n",
       "</table>\n",
       "</div>"
      ],
      "text/plain": [
       "    airline   flight source_city departure_time stops   arrival_time  \\\n",
       "0  SpiceJet  SG-8709       Delhi        Evening  zero          Night   \n",
       "1  SpiceJet  SG-8157       Delhi  Early_Morning  zero        Morning   \n",
       "2   AirAsia   I5-764       Delhi  Early_Morning  zero  Early_Morning   \n",
       "3   Vistara   UK-995       Delhi        Morning  zero      Afternoon   \n",
       "4   Vistara   UK-963       Delhi        Morning  zero        Morning   \n",
       "\n",
       "  destination_city    class  durations  days_lefts  prices  \n",
       "0           Mumbai  Economy       2.17         1.0  5953.0  \n",
       "1           Mumbai  Economy       2.33         1.0  5953.0  \n",
       "2           Mumbai  Economy       2.17         1.0  5956.0  \n",
       "3           Mumbai  Economy       2.25         1.0  5955.0  \n",
       "4           Mumbai  Economy       2.33         1.0  5955.0  "
      ]
     },
     "execution_count": 387,
     "metadata": {},
     "output_type": "execute_result"
    }
   ],
   "source": [
    "dataf.head()"
   ]
  },
  {
   "cell_type": "code",
   "execution_count": 388,
   "id": "fe9c8e3b-f49e-49d9-b19b-8a9bdef44394",
   "metadata": {},
   "outputs": [
    {
     "name": "stderr",
     "output_type": "stream",
     "text": [
      "C:\\Users\\91777\\anaconda3\\lib\\site-packages\\seaborn\\_decorators.py:36: FutureWarning: Pass the following variable as a keyword arg: x. From version 0.12, the only valid positional argument will be `data`, and passing other arguments without an explicit keyword will result in an error or misinterpretation.\n",
      "  warnings.warn(\n"
     ]
    },
    {
     "data": {
      "text/plain": [
       "<AxesSubplot:xlabel='prices'>"
      ]
     },
     "execution_count": 388,
     "metadata": {},
     "output_type": "execute_result"
    },
    {
     "data": {
      "image/png": "[encoded data removed]",
      "text/plain": [
       "<Figure size 432x288 with 1 Axes>"
      ]
     },
     "metadata": {
      "needs_background": "light"
     },
     "output_type": "display_data"
    }
   ],
   "source": [
    "sns.boxplot(dataf['prices'])"
   ]
  },
  {
   "cell_type": "code",
   "execution_count": 389,
   "id": "3e6366f8-2b30-4902-8d4f-9560ca2f8c64",
   "metadata": {},
   "outputs": [
    {
     "name": "stderr",
     "output_type": "stream",
     "text": [
      "C:\\Users\\91777\\anaconda3\\lib\\site-packages\\seaborn\\_decorators.py:36: FutureWarning: Pass the following variable as a keyword arg: x. From version 0.12, the only valid positional argument will be `data`, and passing other arguments without an explicit keyword will result in an error or misinterpretation.\n",
      "  warnings.warn(\n"
     ]
    },
    {
     "data": {
      "text/plain": [
       "<AxesSubplot:xlabel='durations'>"
      ]
     },
     "execution_count": 389,
     "metadata": {},
     "output_type": "execute_result"
    },
    {
     "data": {
      "image/png": "[encoded data removed]",
      "text/plain": [
       "<Figure size 432x288 with 1 Axes>"
      ]
     },
     "metadata": {
      "needs_background": "light"
     },
     "output_type": "display_data"
    }
   ],
   "source": [
    "sns.boxplot(dataf['durations'])"
   ]
  },
  {
   "cell_type": "code",
   "execution_count": 395,
   "id": "aed86672-ef74-477d-ad5b-192bcc50f2bb",
   "metadata": {},
   "outputs": [],
   "source": [
    "repf = dataf['flight'].value_counts()[dataf['flight'].value_counts() < 500].index"
   ]
  },
  {
   "cell_type": "code",
   "execution_count": 396,
   "id": "6a570f87-1638-4919-b683-87da3eb9f491",
   "metadata": {},
   "outputs": [],
   "source": [
    "dataf['flight'] = dataf['flight'].replace(repf,'others')"
   ]
  },
  {
   "cell_type": "code",
   "execution_count": 412,
   "id": "6373dc3e-dcce-479d-9ba8-6f7adcede161",
   "metadata": {},
   "outputs": [],
   "source": [
    "Xf = dataf.drop(columns='prices')\n",
    "yf = dataf['prices']"
   ]
  },
  {
   "cell_type": "code",
   "execution_count": 413,
   "id": "3b443b65-9a5f-47a8-9162-295408275964",
   "metadata": {},
   "outputs": [],
   "source": [
    "Xf_train,Xf_test,yf_train,yf_test=train_test_split(Xf,yf,test_size=0.2,random_state=0)"
   ]
  },
  {
   "cell_type": "code",
   "execution_count": 414,
   "id": "f8a3abdb-8fe9-438f-a983-3a8f87df673b",
   "metadata": {},
   "outputs": [
    {
     "data": {
      "text/html": [
       "<div>\n",
       "<style scoped>\n",
       "    .dataframe tbody tr th:only-of-type {\n",
       "        vertical-align: middle;\n",
       "    }\n",
       "\n",
       "    .dataframe tbody tr th {\n",
       "        vertical-align: top;\n",
       "    }\n",
       "\n",
       "    .dataframe thead th {\n",
       "        text-align: right;\n",
       "    }\n",
       "</style>\n",
       "<table border=\"1\" class=\"dataframe\">\n",
       "  <thead>\n",
       "    <tr style=\"text-align: right;\">\n",
       "      <th></th>\n",
       "      <th>airline</th>\n",
       "      <th>flight</th>\n",
       "      <th>source_city</th>\n",
       "      <th>departure_time</th>\n",
       "      <th>stops</th>\n",
       "      <th>arrival_time</th>\n",
       "      <th>destination_city</th>\n",
       "      <th>class</th>\n",
       "      <th>durations</th>\n",
       "      <th>days_lefts</th>\n",
       "    </tr>\n",
       "  </thead>\n",
       "  <tbody>\n",
       "    <tr>\n",
       "      <th>8891</th>\n",
       "      <td>Vistara</td>\n",
       "      <td>others</td>\n",
       "      <td>Delhi</td>\n",
       "      <td>Afternoon</td>\n",
       "      <td>one</td>\n",
       "      <td>Morning</td>\n",
       "      <td>Mumbai</td>\n",
       "      <td>Economy</td>\n",
       "      <td>19.25</td>\n",
       "      <td>44.0</td>\n",
       "    </tr>\n",
       "    <tr>\n",
       "      <th>273375</th>\n",
       "      <td>Vistara</td>\n",
       "      <td>UK-720</td>\n",
       "      <td>Kolkata</td>\n",
       "      <td>Early_Morning</td>\n",
       "      <td>one</td>\n",
       "      <td>Night</td>\n",
       "      <td>Chennai</td>\n",
       "      <td>Business</td>\n",
       "      <td>15.58</td>\n",
       "      <td>19.0</td>\n",
       "    </tr>\n",
       "    <tr>\n",
       "      <th>229182</th>\n",
       "      <td>Vistara</td>\n",
       "      <td>UK-940</td>\n",
       "      <td>Mumbai</td>\n",
       "      <td>Evening</td>\n",
       "      <td>zero</td>\n",
       "      <td>Night</td>\n",
       "      <td>Delhi</td>\n",
       "      <td>Business</td>\n",
       "      <td>2.17</td>\n",
       "      <td>42.0</td>\n",
       "    </tr>\n",
       "    <tr>\n",
       "      <th>38568</th>\n",
       "      <td>GO_FIRST</td>\n",
       "      <td>others</td>\n",
       "      <td>Delhi</td>\n",
       "      <td>Late_Night</td>\n",
       "      <td>one</td>\n",
       "      <td>Early_Morning</td>\n",
       "      <td>Chennai</td>\n",
       "      <td>Economy</td>\n",
       "      <td>5.67</td>\n",
       "      <td>23.0</td>\n",
       "    </tr>\n",
       "    <tr>\n",
       "      <th>218311</th>\n",
       "      <td>Air_India</td>\n",
       "      <td>AI-429</td>\n",
       "      <td>Delhi</td>\n",
       "      <td>Morning</td>\n",
       "      <td>one</td>\n",
       "      <td>Morning</td>\n",
       "      <td>Kolkata</td>\n",
       "      <td>Business</td>\n",
       "      <td>23.75</td>\n",
       "      <td>38.0</td>\n",
       "    </tr>\n",
       "  </tbody>\n",
       "</table>\n",
       "</div>"
      ],
      "text/plain": [
       "          airline  flight source_city departure_time stops   arrival_time  \\\n",
       "8891      Vistara  others       Delhi      Afternoon   one        Morning   \n",
       "273375    Vistara  UK-720     Kolkata  Early_Morning   one          Night   \n",
       "229182    Vistara  UK-940      Mumbai        Evening  zero          Night   \n",
       "38568    GO_FIRST  others       Delhi     Late_Night   one  Early_Morning   \n",
       "218311  Air_India  AI-429       Delhi        Morning   one        Morning   \n",
       "\n",
       "       destination_city     class  durations  days_lefts  \n",
       "8891             Mumbai   Economy      19.25        44.0  \n",
       "273375          Chennai  Business      15.58        19.0  \n",
       "229182            Delhi  Business       2.17        42.0  \n",
       "38568           Chennai   Economy       5.67        23.0  \n",
       "218311          Kolkata  Business      23.75        38.0  "
      ]
     },
     "execution_count": 414,
     "metadata": {},
     "output_type": "execute_result"
    }
   ],
   "source": [
    "Xf_train.head()"
   ]
  },
  {
   "cell_type": "code",
   "execution_count": 415,
   "id": "0a0baee0-ae31-4cba-92df-8861917e0c6c",
   "metadata": {},
   "outputs": [],
   "source": [
    "ohef_col = ['airline','flight','source_city','destination_city']\n",
    "ohef = OneHotEncoder()"
   ]
  },
  {
   "cell_type": "code",
   "execution_count": 416,
   "id": "4d0a76b4-6d50-4e5b-9655-96934e3adb3e",
   "metadata": {},
   "outputs": [
    {
     "data": {
      "text/plain": [
       "OneHotEncoder()"
      ]
     },
     "execution_count": 416,
     "metadata": {},
     "output_type": "execute_result"
    }
   ],
   "source": [
    "ohef.fit(Xf[ohef_col])"
   ]
  },
  {
   "cell_type": "code",
   "execution_count": 417,
   "id": "d7c2ae3a-37d0-417d-9237-3afa26754a7a",
   "metadata": {},
   "outputs": [],
   "source": [
    "ordi_col = ['departure_time','stops','class','arrival_time']\n",
    "ordf = OrdinalEncoder(categories=[['Late_Night','Afternoon','Night','Evening','Early_Morning','Morning'],\n",
    "                                   ['two_or_more','one','zero'],\n",
    "                                   ['Economy','Business'],\n",
    "                                   ['Late_Night','Afternoon','Night','Evening','Early_Morning','Morning']])"
   ]
  },
  {
   "cell_type": "code",
   "execution_count": 418,
   "id": "032c2ac8-f507-4cab-92dc-0be326e89863",
   "metadata": {},
   "outputs": [
    {
     "data": {
      "text/plain": [
       "OrdinalEncoder(categories=[['Late_Night', 'Afternoon', 'Night', 'Evening',\n",
       "                            'Early_Morning', 'Morning'],\n",
       "                           ['two_or_more', 'one', 'zero'],\n",
       "                           ['Economy', 'Business'],\n",
       "                           ['Late_Night', 'Afternoon', 'Night', 'Evening',\n",
       "                            'Early_Morning', 'Morning']])"
      ]
     },
     "execution_count": 418,
     "metadata": {},
     "output_type": "execute_result"
    }
   ],
   "source": [
    "ordf.fit(Xf[ordi_col])"
   ]
  },
  {
   "cell_type": "code",
   "execution_count": 419,
   "id": "05f4d5d9-38d3-4cf6-a64d-9851ff45469c",
   "metadata": {},
   "outputs": [],
   "source": [
    "\n",
    "transformerf = ColumnTransformer(transformers=[\n",
    "    ('trf1',OneHotEncoder(categories=ohef.categories_,sparse=False,drop='first'),[0,1,2,6]),\n",
    "    ('trf2',OrdinalEncoder(categories=ordf.categories_),[3,4,7,5]),\n",
    "    ('scale',StandardScaler(),['durations'])\n",
    "],remainder='passthrough')"
   ]
  },
  {
   "cell_type": "code",
   "execution_count": 420,
   "id": "8f2b4645-21e2-4718-9f7a-ae424fa225a0",
   "metadata": {},
   "outputs": [],
   "source": [
    "Xf_trans_train = transformerf.fit_transform(Xf_train)"
   ]
  },
  {
   "cell_type": "code",
   "execution_count": 421,
   "id": "c6e40d8b-c5b3-46f6-9f21-b887c29999f4",
   "metadata": {},
   "outputs": [],
   "source": [
    "Xf_trans_test = transformerf.transform(Xf_test)"
   ]
  },
  {
   "cell_type": "code",
   "execution_count": 422,
   "id": "d29bb579-3c68-4036-9310-ebfa3fad594c",
   "metadata": {},
   "outputs": [],
   "source": [
    "lrf = LinearRegression()"
   ]
  },
  {
   "cell_type": "code",
   "execution_count": 423,
   "id": "4b5faea1-c931-40bb-850d-3a5c2f5770c0",
   "metadata": {},
   "outputs": [
    {
     "data": {
      "text/plain": [
       "LinearRegression()"
      ]
     },
     "execution_count": 423,
     "metadata": {},
     "output_type": "execute_result"
    }
   ],
   "source": [
    "lrf.fit(Xf_trans_train,yf_train)"
   ]
  },
  {
   "cell_type": "code",
   "execution_count": 424,
   "id": "4210d0ce-fb89-4f35-ac54-6a4e0fcd2012",
   "metadata": {},
   "outputs": [],
   "source": [
    "yf_pred_test = lrf.predict(Xf_trans_test)"
   ]
  },
  {
   "cell_type": "code",
   "execution_count": 425,
   "id": "dc5d83b4-5531-497c-afdb-3397c43b1c27",
   "metadata": {},
   "outputs": [
    {
     "data": {
      "text/plain": [
       "array([ 9215.68405113, 55373.58440136,  2954.36509096, ...,\n",
       "        9035.48097192,  5916.69382303,  2638.75594766])"
      ]
     },
     "execution_count": 425,
     "metadata": {},
     "output_type": "execute_result"
    }
   ],
   "source": [
    "yf_pred_test"
   ]
  },
  {
   "cell_type": "code",
   "execution_count": 426,
   "id": "edcc36e7-8665-4c59-8b7d-a10b3433636e",
   "metadata": {},
   "outputs": [
    {
     "data": {
      "text/plain": [
       "0.920098275901042"
      ]
     },
     "execution_count": 426,
     "metadata": {},
     "output_type": "execute_result"
    }
   ],
   "source": [
    "r2_score(yf_test,yf_pred_test)"
   ]
  },
  {
   "cell_type": "code",
   "execution_count": 428,
   "id": "b9756bb6-bd2e-47ac-ad88-91599fc24b9a",
   "metadata": {},
   "outputs": [],
   "source": [
    "yf_pred_train = lrf.predict(Xf_trans_train)"
   ]
  },
  {
   "cell_type": "code",
   "execution_count": 429,
   "id": "18a3cb33-edfe-4c8a-98be-f51389b67eba",
   "metadata": {},
   "outputs": [
    {
     "data": {
      "text/plain": [
       "0.9200255727055816"
      ]
     },
     "execution_count": 429,
     "metadata": {},
     "output_type": "execute_result"
    }
   ],
   "source": [
    "r2_score(yf_train,yf_pred_train)"
   ]
  },
  {
   "cell_type": "code",
   "execution_count": 430,
   "id": "bb99e481-f578-4966-8fb4-e453d6987b22",
   "metadata": {},
   "outputs": [
    {
     "data": {
      "text/plain": [
       "0.9198768389961754"
      ]
     },
     "execution_count": 430,
     "metadata": {},
     "output_type": "execute_result"
    }
   ],
   "source": [
    "folds = KFold(n_splits=10 , shuffle =True, random_state = 0)\n",
    "scores = cross_val_score(lrf,Xf_trans_train, yf_train, scoring='r2', cv=folds).mean()\n",
    "scores"
   ]
  },
  {
   "cell_type": "code",
   "execution_count": null,
   "id": "99d9a13d-99d7-4ba2-ab5d-a56481d72bd3",
   "metadata": {},
   "outputs": [],
   "source": []
  }
 ],
 "metadata": {
  "kernelspec": {
   "display_name": "Python 3 (ipykernel)",
   "language": "python",
   "name": "python3"
  },
  "language_info": {
   "codemirror_mode": {
    "name": "ipython",
    "version": 3
   },
   "file_extension": ".py",
   "mimetype": "text/x-python",
   "name": "python",
   "nbconvert_exporter": "python",
   "pygments_lexer": "ipython3",
   "version": "3.10.9"
  }
 },
 "nbformat": 4,
 "nbformat_minor": 5
}
